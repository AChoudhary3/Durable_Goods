{
 "cells": [
  {
   "cell_type": "code",
   "execution_count": 1,
   "metadata": {},
   "outputs": [],
   "source": [
    "#import modules\n",
    "import pandas as pd \n",
    "import matplotlib.pyplot as plt \n",
    "import seaborn as sns \n",
    "import datetime as dtm \n",
    "from datetime import date\n",
    "import numpy as np\n",
    "\n",
    "import sklearn as sk\n",
    "import sklearn.tree as tree\n",
    "from IPython.display import Image  \n",
    "import pydotplus\n",
    "\n",
    "import warnings\n",
    "warnings.filterwarnings('ignore')\n",
    "from sklearn.model_selection import train_test_split\n",
    "from imblearn.over_sampling import SMOTE"
   ]
  },
  {
   "cell_type": "code",
   "execution_count": 2,
   "metadata": {},
   "outputs": [],
   "source": [
    "# Loading Dataset\n",
    "data = pd.read_csv(\"CSVDurData1_Final.csv\")"
   ]
  },
  {
   "cell_type": "code",
   "execution_count": 3,
   "metadata": {},
   "outputs": [
    {
     "data": {
      "text/plain": [
       "173262"
      ]
     },
     "execution_count": 3,
     "metadata": {},
     "output_type": "execute_result"
    }
   ],
   "source": [
    "# Checking unique rows\n",
    "filter_data=data[['Transaction_NBR','Household_ID']].drop_duplicates()\n",
    "len(filter_data)"
   ]
  },
  {
   "cell_type": "markdown",
   "metadata": {},
   "source": [
    "### Summary"
   ]
  },
  {
   "cell_type": "code",
   "execution_count": 4,
   "metadata": {},
   "outputs": [
    {
     "data": {
      "text/plain": [
       "Household_ID                        0\n",
       "Transaction_NBR                     0\n",
       "Transaction_Total                   0\n",
       "Transaction_Date                    0\n",
       "Transaction_Location                0\n",
       "Online_Transaction                  0\n",
       "ORIGINAL_TICKET_NBR                 0\n",
       "Transaction_type                    0\n",
       "PRODUCT_ID                      41163\n",
       "Category_Description              517\n",
       "Sub_Category_NBR                    0\n",
       "Sub_Category_Description         3847\n",
       "Transaction_Type_Description       36\n",
       "Quantity                            0\n",
       "UNIT_PRICE                          0\n",
       "EXTENDED_PRICE                      0\n",
       "RETURN_IND                      13411\n",
       "Return_Location_If_Any              0\n",
       "Age_HH                          20971\n",
       "CHILDERN_PRESENCE               91777\n",
       "Income                          20455\n",
       "GENDERHH                            0\n",
       "Gender_Individual               14575\n",
       "MALE_CHID_AGE_0_2                   0\n",
       "MALE_CHID_AGE_3_5                   0\n",
       "MALE_CHID_AGE_6_10                  0\n",
       "MALE_CHID_AGE_11_15                 0\n",
       "MALE_CHID_AGE_16_17                 0\n",
       "FEMALE_CHID_AGE_0_2                 0\n",
       "FEMALE_CHID_AGE_3_5                 0\n",
       "FEMALE_CHID_AGE_6_10                0\n",
       "FEMALE_CHID_AGE_11_15               0\n",
       "FEMALE_CHID_AGE_16_17               0\n",
       "UNKNOWN_CHID_AGE_0_2                0\n",
       "UNKNOWN_CHID_AGE_3_5                0\n",
       "UNKNOWN_CHID_AGE_6_10               0\n",
       "UNKNOWN_CHID_AGE_11_15              0\n",
       "UNKNOWN_CHID_AGE_16_17              0\n",
       "dtype: int64"
      ]
     },
     "execution_count": 4,
     "metadata": {},
     "output_type": "execute_result"
    }
   ],
   "source": [
    "data.isna().sum()"
   ]
  },
  {
   "cell_type": "code",
   "execution_count": 5,
   "metadata": {},
   "outputs": [
    {
     "data": {
      "text/html": [
       "<div>\n",
       "<style scoped>\n",
       "    .dataframe tbody tr th:only-of-type {\n",
       "        vertical-align: middle;\n",
       "    }\n",
       "\n",
       "    .dataframe tbody tr th {\n",
       "        vertical-align: top;\n",
       "    }\n",
       "\n",
       "    .dataframe thead th {\n",
       "        text-align: right;\n",
       "    }\n",
       "</style>\n",
       "<table border=\"1\" class=\"dataframe\">\n",
       "  <thead>\n",
       "    <tr style=\"text-align: right;\">\n",
       "      <th></th>\n",
       "      <th>count</th>\n",
       "      <th>mean</th>\n",
       "      <th>std</th>\n",
       "      <th>min</th>\n",
       "      <th>25%</th>\n",
       "      <th>50%</th>\n",
       "      <th>75%</th>\n",
       "      <th>max</th>\n",
       "    </tr>\n",
       "  </thead>\n",
       "  <tbody>\n",
       "    <tr>\n",
       "      <th>Household_ID</th>\n",
       "      <td>173262.0</td>\n",
       "      <td>1.292614e+08</td>\n",
       "      <td>1.714242e+07</td>\n",
       "      <td>1.000035e+08</td>\n",
       "      <td>1.141345e+08</td>\n",
       "      <td>1.293859e+08</td>\n",
       "      <td>1.444470e+08</td>\n",
       "      <td>1.707645e+08</td>\n",
       "    </tr>\n",
       "    <tr>\n",
       "      <th>Transaction_NBR</th>\n",
       "      <td>173262.0</td>\n",
       "      <td>1.267407e+01</td>\n",
       "      <td>1.779025e+01</td>\n",
       "      <td>1.000000e+00</td>\n",
       "      <td>3.000000e+00</td>\n",
       "      <td>7.000000e+00</td>\n",
       "      <td>1.500000e+01</td>\n",
       "      <td>2.550000e+02</td>\n",
       "    </tr>\n",
       "    <tr>\n",
       "      <th>Transaction_Total</th>\n",
       "      <td>173262.0</td>\n",
       "      <td>2.434814e+01</td>\n",
       "      <td>2.831114e+01</td>\n",
       "      <td>1.000000e+00</td>\n",
       "      <td>8.000000e+00</td>\n",
       "      <td>1.500000e+01</td>\n",
       "      <td>3.000000e+01</td>\n",
       "      <td>2.550000e+02</td>\n",
       "    </tr>\n",
       "    <tr>\n",
       "      <th>Transaction_Location</th>\n",
       "      <td>173262.0</td>\n",
       "      <td>2.544546e+03</td>\n",
       "      <td>1.353074e+03</td>\n",
       "      <td>2.000000e+00</td>\n",
       "      <td>8.600000e+02</td>\n",
       "      <td>3.202000e+03</td>\n",
       "      <td>3.611000e+03</td>\n",
       "      <td>4.510000e+03</td>\n",
       "    </tr>\n",
       "    <tr>\n",
       "      <th>Online_Transaction</th>\n",
       "      <td>173262.0</td>\n",
       "      <td>1.471760e-02</td>\n",
       "      <td>1.204204e-01</td>\n",
       "      <td>0.000000e+00</td>\n",
       "      <td>0.000000e+00</td>\n",
       "      <td>0.000000e+00</td>\n",
       "      <td>0.000000e+00</td>\n",
       "      <td>1.000000e+00</td>\n",
       "    </tr>\n",
       "    <tr>\n",
       "      <th>ORIGINAL_TICKET_NBR</th>\n",
       "      <td>173262.0</td>\n",
       "      <td>2.544820e+11</td>\n",
       "      <td>1.353241e+11</td>\n",
       "      <td>2.001612e+08</td>\n",
       "      <td>8.600255e+10</td>\n",
       "      <td>3.200000e+11</td>\n",
       "      <td>3.610000e+11</td>\n",
       "      <td>4.510000e+11</td>\n",
       "    </tr>\n",
       "    <tr>\n",
       "      <th>Transaction_type</th>\n",
       "      <td>173262.0</td>\n",
       "      <td>1.335267e+00</td>\n",
       "      <td>7.651849e-01</td>\n",
       "      <td>1.000000e+00</td>\n",
       "      <td>1.000000e+00</td>\n",
       "      <td>1.000000e+00</td>\n",
       "      <td>1.000000e+00</td>\n",
       "      <td>6.000000e+00</td>\n",
       "    </tr>\n",
       "    <tr>\n",
       "      <th>PRODUCT_ID</th>\n",
       "      <td>132099.0</td>\n",
       "      <td>7.171141e+05</td>\n",
       "      <td>1.238596e+05</td>\n",
       "      <td>5.326560e+05</td>\n",
       "      <td>5.810970e+05</td>\n",
       "      <td>7.403130e+05</td>\n",
       "      <td>8.102720e+05</td>\n",
       "      <td>1.068840e+06</td>\n",
       "    </tr>\n",
       "    <tr>\n",
       "      <th>Sub_Category_NBR</th>\n",
       "      <td>173262.0</td>\n",
       "      <td>3.164813e+02</td>\n",
       "      <td>1.953734e+02</td>\n",
       "      <td>0.000000e+00</td>\n",
       "      <td>1.720000e+02</td>\n",
       "      <td>3.190000e+02</td>\n",
       "      <td>3.790000e+02</td>\n",
       "      <td>9.810000e+02</td>\n",
       "    </tr>\n",
       "    <tr>\n",
       "      <th>Quantity</th>\n",
       "      <td>173262.0</td>\n",
       "      <td>8.219113e-01</td>\n",
       "      <td>1.380541e+00</td>\n",
       "      <td>-1.100000e+01</td>\n",
       "      <td>1.000000e+00</td>\n",
       "      <td>1.000000e+00</td>\n",
       "      <td>1.000000e+00</td>\n",
       "      <td>9.900000e+01</td>\n",
       "    </tr>\n",
       "    <tr>\n",
       "      <th>UNIT_PRICE</th>\n",
       "      <td>173262.0</td>\n",
       "      <td>1.089130e+02</td>\n",
       "      <td>2.954237e+02</td>\n",
       "      <td>-6.899980e+03</td>\n",
       "      <td>9.990000e+00</td>\n",
       "      <td>3.999000e+01</td>\n",
       "      <td>1.299900e+02</td>\n",
       "      <td>6.999990e+03</td>\n",
       "    </tr>\n",
       "    <tr>\n",
       "      <th>EXTENDED_PRICE</th>\n",
       "      <td>173262.0</td>\n",
       "      <td>1.092319e+02</td>\n",
       "      <td>2.955023e+02</td>\n",
       "      <td>-6.899980e+03</td>\n",
       "      <td>9.990000e+00</td>\n",
       "      <td>3.999000e+01</td>\n",
       "      <td>1.299900e+02</td>\n",
       "      <td>6.999990e+03</td>\n",
       "    </tr>\n",
       "    <tr>\n",
       "      <th>Return_Location_If_Any</th>\n",
       "      <td>173262.0</td>\n",
       "      <td>2.519373e+03</td>\n",
       "      <td>1.351602e+03</td>\n",
       "      <td>2.000000e+00</td>\n",
       "      <td>8.590000e+02</td>\n",
       "      <td>3.196000e+03</td>\n",
       "      <td>3.607000e+03</td>\n",
       "      <td>4.510000e+03</td>\n",
       "    </tr>\n",
       "    <tr>\n",
       "      <th>Age_HH</th>\n",
       "      <td>152291.0</td>\n",
       "      <td>4.825652e+01</td>\n",
       "      <td>1.434196e+01</td>\n",
       "      <td>1.800000e+01</td>\n",
       "      <td>3.800000e+01</td>\n",
       "      <td>4.800000e+01</td>\n",
       "      <td>5.600000e+01</td>\n",
       "      <td>9.900000e+01</td>\n",
       "    </tr>\n",
       "    <tr>\n",
       "      <th>Income</th>\n",
       "      <td>152807.0</td>\n",
       "      <td>5.920383e+00</td>\n",
       "      <td>2.296218e+00</td>\n",
       "      <td>1.000000e+00</td>\n",
       "      <td>4.000000e+00</td>\n",
       "      <td>6.000000e+00</td>\n",
       "      <td>8.000000e+00</td>\n",
       "      <td>9.000000e+00</td>\n",
       "    </tr>\n",
       "    <tr>\n",
       "      <th>MALE_CHID_AGE_0_2</th>\n",
       "      <td>173262.0</td>\n",
       "      <td>5.604229e-03</td>\n",
       "      <td>7.465155e-02</td>\n",
       "      <td>0.000000e+00</td>\n",
       "      <td>0.000000e+00</td>\n",
       "      <td>0.000000e+00</td>\n",
       "      <td>0.000000e+00</td>\n",
       "      <td>1.000000e+00</td>\n",
       "    </tr>\n",
       "    <tr>\n",
       "      <th>MALE_CHID_AGE_3_5</th>\n",
       "      <td>173262.0</td>\n",
       "      <td>2.114716e-02</td>\n",
       "      <td>1.438752e-01</td>\n",
       "      <td>0.000000e+00</td>\n",
       "      <td>0.000000e+00</td>\n",
       "      <td>0.000000e+00</td>\n",
       "      <td>0.000000e+00</td>\n",
       "      <td>1.000000e+00</td>\n",
       "    </tr>\n",
       "    <tr>\n",
       "      <th>MALE_CHID_AGE_6_10</th>\n",
       "      <td>173262.0</td>\n",
       "      <td>3.922961e-02</td>\n",
       "      <td>1.941413e-01</td>\n",
       "      <td>0.000000e+00</td>\n",
       "      <td>0.000000e+00</td>\n",
       "      <td>0.000000e+00</td>\n",
       "      <td>0.000000e+00</td>\n",
       "      <td>1.000000e+00</td>\n",
       "    </tr>\n",
       "    <tr>\n",
       "      <th>MALE_CHID_AGE_11_15</th>\n",
       "      <td>173262.0</td>\n",
       "      <td>5.751405e-02</td>\n",
       "      <td>2.328229e-01</td>\n",
       "      <td>0.000000e+00</td>\n",
       "      <td>0.000000e+00</td>\n",
       "      <td>0.000000e+00</td>\n",
       "      <td>0.000000e+00</td>\n",
       "      <td>1.000000e+00</td>\n",
       "    </tr>\n",
       "    <tr>\n",
       "      <th>MALE_CHID_AGE_16_17</th>\n",
       "      <td>173262.0</td>\n",
       "      <td>5.320844e-02</td>\n",
       "      <td>2.244495e-01</td>\n",
       "      <td>0.000000e+00</td>\n",
       "      <td>0.000000e+00</td>\n",
       "      <td>0.000000e+00</td>\n",
       "      <td>0.000000e+00</td>\n",
       "      <td>1.000000e+00</td>\n",
       "    </tr>\n",
       "    <tr>\n",
       "      <th>FEMALE_CHID_AGE_0_2</th>\n",
       "      <td>173262.0</td>\n",
       "      <td>6.210248e-03</td>\n",
       "      <td>7.856027e-02</td>\n",
       "      <td>0.000000e+00</td>\n",
       "      <td>0.000000e+00</td>\n",
       "      <td>0.000000e+00</td>\n",
       "      <td>0.000000e+00</td>\n",
       "      <td>1.000000e+00</td>\n",
       "    </tr>\n",
       "    <tr>\n",
       "      <th>FEMALE_CHID_AGE_3_5</th>\n",
       "      <td>173262.0</td>\n",
       "      <td>1.562951e-02</td>\n",
       "      <td>1.240376e-01</td>\n",
       "      <td>0.000000e+00</td>\n",
       "      <td>0.000000e+00</td>\n",
       "      <td>0.000000e+00</td>\n",
       "      <td>0.000000e+00</td>\n",
       "      <td>1.000000e+00</td>\n",
       "    </tr>\n",
       "    <tr>\n",
       "      <th>FEMALE_CHID_AGE_6_10</th>\n",
       "      <td>173262.0</td>\n",
       "      <td>3.133982e-02</td>\n",
       "      <td>1.742349e-01</td>\n",
       "      <td>0.000000e+00</td>\n",
       "      <td>0.000000e+00</td>\n",
       "      <td>0.000000e+00</td>\n",
       "      <td>0.000000e+00</td>\n",
       "      <td>1.000000e+00</td>\n",
       "    </tr>\n",
       "    <tr>\n",
       "      <th>FEMALE_CHID_AGE_11_15</th>\n",
       "      <td>173262.0</td>\n",
       "      <td>5.294294e-02</td>\n",
       "      <td>2.239202e-01</td>\n",
       "      <td>0.000000e+00</td>\n",
       "      <td>0.000000e+00</td>\n",
       "      <td>0.000000e+00</td>\n",
       "      <td>0.000000e+00</td>\n",
       "      <td>1.000000e+00</td>\n",
       "    </tr>\n",
       "    <tr>\n",
       "      <th>FEMALE_CHID_AGE_16_17</th>\n",
       "      <td>173262.0</td>\n",
       "      <td>5.108448e-02</td>\n",
       "      <td>2.201707e-01</td>\n",
       "      <td>0.000000e+00</td>\n",
       "      <td>0.000000e+00</td>\n",
       "      <td>0.000000e+00</td>\n",
       "      <td>0.000000e+00</td>\n",
       "      <td>1.000000e+00</td>\n",
       "    </tr>\n",
       "    <tr>\n",
       "      <th>UNKNOWN_CHID_AGE_0_2</th>\n",
       "      <td>173262.0</td>\n",
       "      <td>3.232099e-02</td>\n",
       "      <td>1.768517e-01</td>\n",
       "      <td>0.000000e+00</td>\n",
       "      <td>0.000000e+00</td>\n",
       "      <td>0.000000e+00</td>\n",
       "      <td>0.000000e+00</td>\n",
       "      <td>1.000000e+00</td>\n",
       "    </tr>\n",
       "    <tr>\n",
       "      <th>UNKNOWN_CHID_AGE_3_5</th>\n",
       "      <td>173262.0</td>\n",
       "      <td>3.699022e-02</td>\n",
       "      <td>1.887383e-01</td>\n",
       "      <td>0.000000e+00</td>\n",
       "      <td>0.000000e+00</td>\n",
       "      <td>0.000000e+00</td>\n",
       "      <td>0.000000e+00</td>\n",
       "      <td>1.000000e+00</td>\n",
       "    </tr>\n",
       "    <tr>\n",
       "      <th>UNKNOWN_CHID_AGE_6_10</th>\n",
       "      <td>173262.0</td>\n",
       "      <td>3.740001e-02</td>\n",
       "      <td>1.897405e-01</td>\n",
       "      <td>0.000000e+00</td>\n",
       "      <td>0.000000e+00</td>\n",
       "      <td>0.000000e+00</td>\n",
       "      <td>0.000000e+00</td>\n",
       "      <td>1.000000e+00</td>\n",
       "    </tr>\n",
       "    <tr>\n",
       "      <th>UNKNOWN_CHID_AGE_11_15</th>\n",
       "      <td>173262.0</td>\n",
       "      <td>2.983920e-02</td>\n",
       "      <td>1.701440e-01</td>\n",
       "      <td>0.000000e+00</td>\n",
       "      <td>0.000000e+00</td>\n",
       "      <td>0.000000e+00</td>\n",
       "      <td>0.000000e+00</td>\n",
       "      <td>1.000000e+00</td>\n",
       "    </tr>\n",
       "    <tr>\n",
       "      <th>UNKNOWN_CHID_AGE_16_17</th>\n",
       "      <td>173262.0</td>\n",
       "      <td>1.036003e-02</td>\n",
       "      <td>1.012559e-01</td>\n",
       "      <td>0.000000e+00</td>\n",
       "      <td>0.000000e+00</td>\n",
       "      <td>0.000000e+00</td>\n",
       "      <td>0.000000e+00</td>\n",
       "      <td>1.000000e+00</td>\n",
       "    </tr>\n",
       "  </tbody>\n",
       "</table>\n",
       "</div>"
      ],
      "text/plain": [
       "                           count          mean           std           min  \\\n",
       "Household_ID            173262.0  1.292614e+08  1.714242e+07  1.000035e+08   \n",
       "Transaction_NBR         173262.0  1.267407e+01  1.779025e+01  1.000000e+00   \n",
       "Transaction_Total       173262.0  2.434814e+01  2.831114e+01  1.000000e+00   \n",
       "Transaction_Location    173262.0  2.544546e+03  1.353074e+03  2.000000e+00   \n",
       "Online_Transaction      173262.0  1.471760e-02  1.204204e-01  0.000000e+00   \n",
       "ORIGINAL_TICKET_NBR     173262.0  2.544820e+11  1.353241e+11  2.001612e+08   \n",
       "Transaction_type        173262.0  1.335267e+00  7.651849e-01  1.000000e+00   \n",
       "PRODUCT_ID              132099.0  7.171141e+05  1.238596e+05  5.326560e+05   \n",
       "Sub_Category_NBR        173262.0  3.164813e+02  1.953734e+02  0.000000e+00   \n",
       "Quantity                173262.0  8.219113e-01  1.380541e+00 -1.100000e+01   \n",
       "UNIT_PRICE              173262.0  1.089130e+02  2.954237e+02 -6.899980e+03   \n",
       "EXTENDED_PRICE          173262.0  1.092319e+02  2.955023e+02 -6.899980e+03   \n",
       "Return_Location_If_Any  173262.0  2.519373e+03  1.351602e+03  2.000000e+00   \n",
       "Age_HH                  152291.0  4.825652e+01  1.434196e+01  1.800000e+01   \n",
       "Income                  152807.0  5.920383e+00  2.296218e+00  1.000000e+00   \n",
       "MALE_CHID_AGE_0_2       173262.0  5.604229e-03  7.465155e-02  0.000000e+00   \n",
       "MALE_CHID_AGE_3_5       173262.0  2.114716e-02  1.438752e-01  0.000000e+00   \n",
       "MALE_CHID_AGE_6_10      173262.0  3.922961e-02  1.941413e-01  0.000000e+00   \n",
       "MALE_CHID_AGE_11_15     173262.0  5.751405e-02  2.328229e-01  0.000000e+00   \n",
       "MALE_CHID_AGE_16_17     173262.0  5.320844e-02  2.244495e-01  0.000000e+00   \n",
       "FEMALE_CHID_AGE_0_2     173262.0  6.210248e-03  7.856027e-02  0.000000e+00   \n",
       "FEMALE_CHID_AGE_3_5     173262.0  1.562951e-02  1.240376e-01  0.000000e+00   \n",
       "FEMALE_CHID_AGE_6_10    173262.0  3.133982e-02  1.742349e-01  0.000000e+00   \n",
       "FEMALE_CHID_AGE_11_15   173262.0  5.294294e-02  2.239202e-01  0.000000e+00   \n",
       "FEMALE_CHID_AGE_16_17   173262.0  5.108448e-02  2.201707e-01  0.000000e+00   \n",
       "UNKNOWN_CHID_AGE_0_2    173262.0  3.232099e-02  1.768517e-01  0.000000e+00   \n",
       "UNKNOWN_CHID_AGE_3_5    173262.0  3.699022e-02  1.887383e-01  0.000000e+00   \n",
       "UNKNOWN_CHID_AGE_6_10   173262.0  3.740001e-02  1.897405e-01  0.000000e+00   \n",
       "UNKNOWN_CHID_AGE_11_15  173262.0  2.983920e-02  1.701440e-01  0.000000e+00   \n",
       "UNKNOWN_CHID_AGE_16_17  173262.0  1.036003e-02  1.012559e-01  0.000000e+00   \n",
       "\n",
       "                                 25%           50%           75%           max  \n",
       "Household_ID            1.141345e+08  1.293859e+08  1.444470e+08  1.707645e+08  \n",
       "Transaction_NBR         3.000000e+00  7.000000e+00  1.500000e+01  2.550000e+02  \n",
       "Transaction_Total       8.000000e+00  1.500000e+01  3.000000e+01  2.550000e+02  \n",
       "Transaction_Location    8.600000e+02  3.202000e+03  3.611000e+03  4.510000e+03  \n",
       "Online_Transaction      0.000000e+00  0.000000e+00  0.000000e+00  1.000000e+00  \n",
       "ORIGINAL_TICKET_NBR     8.600255e+10  3.200000e+11  3.610000e+11  4.510000e+11  \n",
       "Transaction_type        1.000000e+00  1.000000e+00  1.000000e+00  6.000000e+00  \n",
       "PRODUCT_ID              5.810970e+05  7.403130e+05  8.102720e+05  1.068840e+06  \n",
       "Sub_Category_NBR        1.720000e+02  3.190000e+02  3.790000e+02  9.810000e+02  \n",
       "Quantity                1.000000e+00  1.000000e+00  1.000000e+00  9.900000e+01  \n",
       "UNIT_PRICE              9.990000e+00  3.999000e+01  1.299900e+02  6.999990e+03  \n",
       "EXTENDED_PRICE          9.990000e+00  3.999000e+01  1.299900e+02  6.999990e+03  \n",
       "Return_Location_If_Any  8.590000e+02  3.196000e+03  3.607000e+03  4.510000e+03  \n",
       "Age_HH                  3.800000e+01  4.800000e+01  5.600000e+01  9.900000e+01  \n",
       "Income                  4.000000e+00  6.000000e+00  8.000000e+00  9.000000e+00  \n",
       "MALE_CHID_AGE_0_2       0.000000e+00  0.000000e+00  0.000000e+00  1.000000e+00  \n",
       "MALE_CHID_AGE_3_5       0.000000e+00  0.000000e+00  0.000000e+00  1.000000e+00  \n",
       "MALE_CHID_AGE_6_10      0.000000e+00  0.000000e+00  0.000000e+00  1.000000e+00  \n",
       "MALE_CHID_AGE_11_15     0.000000e+00  0.000000e+00  0.000000e+00  1.000000e+00  \n",
       "MALE_CHID_AGE_16_17     0.000000e+00  0.000000e+00  0.000000e+00  1.000000e+00  \n",
       "FEMALE_CHID_AGE_0_2     0.000000e+00  0.000000e+00  0.000000e+00  1.000000e+00  \n",
       "FEMALE_CHID_AGE_3_5     0.000000e+00  0.000000e+00  0.000000e+00  1.000000e+00  \n",
       "FEMALE_CHID_AGE_6_10    0.000000e+00  0.000000e+00  0.000000e+00  1.000000e+00  \n",
       "FEMALE_CHID_AGE_11_15   0.000000e+00  0.000000e+00  0.000000e+00  1.000000e+00  \n",
       "FEMALE_CHID_AGE_16_17   0.000000e+00  0.000000e+00  0.000000e+00  1.000000e+00  \n",
       "UNKNOWN_CHID_AGE_0_2    0.000000e+00  0.000000e+00  0.000000e+00  1.000000e+00  \n",
       "UNKNOWN_CHID_AGE_3_5    0.000000e+00  0.000000e+00  0.000000e+00  1.000000e+00  \n",
       "UNKNOWN_CHID_AGE_6_10   0.000000e+00  0.000000e+00  0.000000e+00  1.000000e+00  \n",
       "UNKNOWN_CHID_AGE_11_15  0.000000e+00  0.000000e+00  0.000000e+00  1.000000e+00  \n",
       "UNKNOWN_CHID_AGE_16_17  0.000000e+00  0.000000e+00  0.000000e+00  1.000000e+00  "
      ]
     },
     "execution_count": 5,
     "metadata": {},
     "output_type": "execute_result"
    }
   ],
   "source": [
    "data.describe().T"
   ]
  },
  {
   "cell_type": "markdown",
   "metadata": {},
   "source": [
    "### CLEANING DATA"
   ]
  },
  {
   "cell_type": "markdown",
   "metadata": {},
   "source": [
    "#### Dropping Columns that are not required"
   ]
  },
  {
   "cell_type": "code",
   "execution_count": 6,
   "metadata": {},
   "outputs": [],
   "source": [
    "#Creating a column Total Children that counts the number of children in a household\n",
    "data['TotalChildren']=data.MALE_CHID_AGE_0_2+data.MALE_CHID_AGE_3_5+data.MALE_CHID_AGE_6_10+data.MALE_CHID_AGE_11_15+\\\n",
    "                 data.MALE_CHID_AGE_16_17+data.FEMALE_CHID_AGE_0_2+data.FEMALE_CHID_AGE_3_5+data.FEMALE_CHID_AGE_6_10+\\\n",
    "                 data.FEMALE_CHID_AGE_11_15+data.FEMALE_CHID_AGE_16_17+data.UNKNOWN_CHID_AGE_0_2+\\\n",
    "                 data.UNKNOWN_CHID_AGE_3_5+data.UNKNOWN_CHID_AGE_6_10+data.UNKNOWN_CHID_AGE_11_15+data.UNKNOWN_CHID_AGE_16_17"
   ]
  },
  {
   "cell_type": "markdown",
   "metadata": {},
   "source": [
    "#### Removing or Replacing Nan values"
   ]
  },
  {
   "cell_type": "code",
   "execution_count": 7,
   "metadata": {
    "scrolled": true
   },
   "outputs": [
    {
     "data": {
      "text/plain": [
       "Household_ID                        0\n",
       "Transaction_NBR                     0\n",
       "Transaction_Total                   0\n",
       "Transaction_Date                    0\n",
       "Transaction_Location                0\n",
       "Online_Transaction                  0\n",
       "ORIGINAL_TICKET_NBR                 0\n",
       "Transaction_type                    0\n",
       "PRODUCT_ID                      41163\n",
       "Category_Description              517\n",
       "Sub_Category_NBR                    0\n",
       "Sub_Category_Description         3847\n",
       "Transaction_Type_Description       36\n",
       "Quantity                            0\n",
       "UNIT_PRICE                          0\n",
       "EXTENDED_PRICE                      0\n",
       "RETURN_IND                      13411\n",
       "Return_Location_If_Any              0\n",
       "Age_HH                          20971\n",
       "CHILDERN_PRESENCE               91777\n",
       "Income                          20455\n",
       "GENDERHH                            0\n",
       "Gender_Individual               14575\n",
       "MALE_CHID_AGE_0_2                   0\n",
       "MALE_CHID_AGE_3_5                   0\n",
       "MALE_CHID_AGE_6_10                  0\n",
       "MALE_CHID_AGE_11_15                 0\n",
       "MALE_CHID_AGE_16_17                 0\n",
       "FEMALE_CHID_AGE_0_2                 0\n",
       "FEMALE_CHID_AGE_3_5                 0\n",
       "FEMALE_CHID_AGE_6_10                0\n",
       "FEMALE_CHID_AGE_11_15               0\n",
       "FEMALE_CHID_AGE_16_17               0\n",
       "UNKNOWN_CHID_AGE_0_2                0\n",
       "UNKNOWN_CHID_AGE_3_5                0\n",
       "UNKNOWN_CHID_AGE_6_10               0\n",
       "UNKNOWN_CHID_AGE_11_15              0\n",
       "UNKNOWN_CHID_AGE_16_17              0\n",
       "TotalChildren                       0\n",
       "dtype: int64"
      ]
     },
     "execution_count": 7,
     "metadata": {},
     "output_type": "execute_result"
    }
   ],
   "source": [
    "data.isna().sum().T"
   ]
  },
  {
   "cell_type": "code",
   "execution_count": 8,
   "metadata": {},
   "outputs": [],
   "source": [
    "data2=data.copy()"
   ]
  },
  {
   "cell_type": "code",
   "execution_count": 9,
   "metadata": {},
   "outputs": [],
   "source": [
    "#Removing Category Description with Nan values since only 517 rows\n",
    "data3=data2[~(data2.Category_Description.isna())]"
   ]
  },
  {
   "cell_type": "code",
   "execution_count": 10,
   "metadata": {
    "scrolled": true
   },
   "outputs": [],
   "source": [
    "#Replacing AgeHH with mean where there are Nan\n",
    "data3.loc[data3.Age_HH.isna(),'Age_HH']=data3.Age_HH.mean()"
   ]
  },
  {
   "cell_type": "code",
   "execution_count": 11,
   "metadata": {},
   "outputs": [],
   "source": [
    "#Replacing IncomeTRANSACTION_TYPE DESCRIPTION  with mean where there are Nan\n",
    "data3.loc[data3.Income.isna(),'Income']=data3.Income.mean()"
   ]
  },
  {
   "cell_type": "markdown",
   "metadata": {},
   "source": [
    "#### Formatting Variables"
   ]
  },
  {
   "cell_type": "code",
   "execution_count": 12,
   "metadata": {},
   "outputs": [],
   "source": [
    "# Extracting date from timestamp\n",
    "data3['Formatted_Date']=data3['Transaction_Date'].str.replace(':00:00:00','')"
   ]
  },
  {
   "cell_type": "code",
   "execution_count": 13,
   "metadata": {},
   "outputs": [],
   "source": [
    "data3['Final_Date']=pd.to_datetime(data3['Formatted_Date'])"
   ]
  },
  {
   "cell_type": "code",
   "execution_count": 14,
   "metadata": {},
   "outputs": [],
   "source": [
    "#Creating Month Variable\n",
    "data3['Month']=data3['Final_Date'].astype(np.datetime64).dt.month"
   ]
  },
  {
   "cell_type": "code",
   "execution_count": 15,
   "metadata": {},
   "outputs": [],
   "source": [
    "#Creating Year Variable\n",
    "data3['Year']=data3['Final_Date'].astype(np.datetime64).dt.year"
   ]
  },
  {
   "cell_type": "markdown",
   "metadata": {},
   "source": [
    "### Q1 - Predicting whether a customer will return the product ?"
   ]
  },
  {
   "cell_type": "code",
   "execution_count": 16,
   "metadata": {},
   "outputs": [],
   "source": [
    "data4=data3[(data3.GENDERHH=='M')|(data3.GENDERHH=='F')]"
   ]
  },
  {
   "cell_type": "code",
   "execution_count": 17,
   "metadata": {},
   "outputs": [],
   "source": [
    "#Dropping the Id, Description Variables and all Child Dummies(combined into TotalChildren)\n",
    "data5=data4.drop(columns=['PRODUCT_ID','Sub_Category_NBR','Sub_Category_Description',\\\n",
    "                         'CHILDERN_PRESENCE','Gender_Individual','Transaction_Type_Description',\\\n",
    "                         'Household_ID','Transaction_NBR','Transaction_Total','Transaction_Location',\\\n",
    "                         'ORIGINAL_TICKET_NBR','Transaction_Type_Description','Quantity',\\\n",
    "                         'EXTENDED_PRICE','Return_Location_If_Any','MALE_CHID_AGE_0_2', 'MALE_CHID_AGE_3_5',\\\n",
    "                         'MALE_CHID_AGE_6_10','MALE_CHID_AGE_11_15', 'MALE_CHID_AGE_16_17','FEMALE_CHID_AGE_0_2',\\\n",
    "                         'FEMALE_CHID_AGE_3_5', 'FEMALE_CHID_AGE_6_10','FEMALE_CHID_AGE_11_15',\\\n",
    "                         'FEMALE_CHID_AGE_16_17', 'UNKNOWN_CHID_AGE_0_2','UNKNOWN_CHID_AGE_3_5',\\\n",
    "                         'UNKNOWN_CHID_AGE_6_10', 'UNKNOWN_CHID_AGE_11_15','UNKNOWN_CHID_AGE_16_17'])"
   ]
  },
  {
   "cell_type": "code",
   "execution_count": 18,
   "metadata": {},
   "outputs": [
    {
     "data": {
      "text/html": [
       "<div>\n",
       "<style scoped>\n",
       "    .dataframe tbody tr th:only-of-type {\n",
       "        vertical-align: middle;\n",
       "    }\n",
       "\n",
       "    .dataframe tbody tr th {\n",
       "        vertical-align: top;\n",
       "    }\n",
       "\n",
       "    .dataframe thead th {\n",
       "        text-align: right;\n",
       "    }\n",
       "</style>\n",
       "<table border=\"1\" class=\"dataframe\">\n",
       "  <thead>\n",
       "    <tr style=\"text-align: right;\">\n",
       "      <th></th>\n",
       "      <th>Online_Transaction</th>\n",
       "      <th>Transaction_type</th>\n",
       "      <th>UNIT_PRICE</th>\n",
       "      <th>Age_HH</th>\n",
       "      <th>Income</th>\n",
       "      <th>TotalChildren</th>\n",
       "      <th>Month</th>\n",
       "      <th>Year</th>\n",
       "    </tr>\n",
       "  </thead>\n",
       "  <tbody>\n",
       "    <tr>\n",
       "      <th>count</th>\n",
       "      <td>145032.000000</td>\n",
       "      <td>145032.000000</td>\n",
       "      <td>145032.000000</td>\n",
       "      <td>145032.000000</td>\n",
       "      <td>145032.000000</td>\n",
       "      <td>145032.000000</td>\n",
       "      <td>145032.000000</td>\n",
       "      <td>145032.000000</td>\n",
       "    </tr>\n",
       "    <tr>\n",
       "      <th>mean</th>\n",
       "      <td>0.013680</td>\n",
       "      <td>1.335547</td>\n",
       "      <td>108.908803</td>\n",
       "      <td>48.629028</td>\n",
       "      <td>5.970029</td>\n",
       "      <td>0.501358</td>\n",
       "      <td>6.092428</td>\n",
       "      <td>2001.627558</td>\n",
       "    </tr>\n",
       "    <tr>\n",
       "      <th>std</th>\n",
       "      <td>0.116158</td>\n",
       "      <td>0.766242</td>\n",
       "      <td>292.713003</td>\n",
       "      <td>13.547555</td>\n",
       "      <td>2.149895</td>\n",
       "      <td>0.875356</td>\n",
       "      <td>4.073617</td>\n",
       "      <td>1.519071</td>\n",
       "    </tr>\n",
       "    <tr>\n",
       "      <th>min</th>\n",
       "      <td>0.000000</td>\n",
       "      <td>1.000000</td>\n",
       "      <td>-6899.980000</td>\n",
       "      <td>18.000000</td>\n",
       "      <td>1.000000</td>\n",
       "      <td>0.000000</td>\n",
       "      <td>1.000000</td>\n",
       "      <td>1998.000000</td>\n",
       "    </tr>\n",
       "    <tr>\n",
       "      <th>25%</th>\n",
       "      <td>0.000000</td>\n",
       "      <td>1.000000</td>\n",
       "      <td>10.000000</td>\n",
       "      <td>40.000000</td>\n",
       "      <td>5.000000</td>\n",
       "      <td>0.000000</td>\n",
       "      <td>2.000000</td>\n",
       "      <td>2001.000000</td>\n",
       "    </tr>\n",
       "    <tr>\n",
       "      <th>50%</th>\n",
       "      <td>0.000000</td>\n",
       "      <td>1.000000</td>\n",
       "      <td>39.990000</td>\n",
       "      <td>48.261417</td>\n",
       "      <td>6.000000</td>\n",
       "      <td>0.000000</td>\n",
       "      <td>6.000000</td>\n",
       "      <td>2002.000000</td>\n",
       "    </tr>\n",
       "    <tr>\n",
       "      <th>75%</th>\n",
       "      <td>0.000000</td>\n",
       "      <td>1.000000</td>\n",
       "      <td>129.990000</td>\n",
       "      <td>56.000000</td>\n",
       "      <td>7.000000</td>\n",
       "      <td>1.000000</td>\n",
       "      <td>10.000000</td>\n",
       "      <td>2003.000000</td>\n",
       "    </tr>\n",
       "    <tr>\n",
       "      <th>max</th>\n",
       "      <td>1.000000</td>\n",
       "      <td>6.000000</td>\n",
       "      <td>6999.990000</td>\n",
       "      <td>99.000000</td>\n",
       "      <td>9.000000</td>\n",
       "      <td>6.000000</td>\n",
       "      <td>12.000000</td>\n",
       "      <td>2004.000000</td>\n",
       "    </tr>\n",
       "  </tbody>\n",
       "</table>\n",
       "</div>"
      ],
      "text/plain": [
       "       Online_Transaction  Transaction_type     UNIT_PRICE         Age_HH  \\\n",
       "count       145032.000000     145032.000000  145032.000000  145032.000000   \n",
       "mean             0.013680          1.335547     108.908803      48.629028   \n",
       "std              0.116158          0.766242     292.713003      13.547555   \n",
       "min              0.000000          1.000000   -6899.980000      18.000000   \n",
       "25%              0.000000          1.000000      10.000000      40.000000   \n",
       "50%              0.000000          1.000000      39.990000      48.261417   \n",
       "75%              0.000000          1.000000     129.990000      56.000000   \n",
       "max              1.000000          6.000000    6999.990000      99.000000   \n",
       "\n",
       "              Income  TotalChildren          Month           Year  \n",
       "count  145032.000000  145032.000000  145032.000000  145032.000000  \n",
       "mean        5.970029       0.501358       6.092428    2001.627558  \n",
       "std         2.149895       0.875356       4.073617       1.519071  \n",
       "min         1.000000       0.000000       1.000000    1998.000000  \n",
       "25%         5.000000       0.000000       2.000000    2001.000000  \n",
       "50%         6.000000       0.000000       6.000000    2002.000000  \n",
       "75%         7.000000       1.000000      10.000000    2003.000000  \n",
       "max         9.000000       6.000000      12.000000    2004.000000  "
      ]
     },
     "execution_count": 18,
     "metadata": {},
     "output_type": "execute_result"
    }
   ],
   "source": [
    "data5.describe()"
   ]
  },
  {
   "cell_type": "code",
   "execution_count": 19,
   "metadata": {},
   "outputs": [],
   "source": [
    "dfr=data5.copy()"
   ]
  },
  {
   "cell_type": "code",
   "execution_count": 20,
   "metadata": {},
   "outputs": [
    {
     "data": {
      "text/plain": [
       "Transaction_type\n",
       "1    116916\n",
       "2     12126\n",
       "3     12704\n",
       "4      2040\n",
       "5      1219\n",
       "6        27\n",
       "dtype: int64"
      ]
     },
     "execution_count": 20,
     "metadata": {},
     "output_type": "execute_result"
    }
   ],
   "source": [
    "dfr.groupby('Transaction_type').size()"
   ]
  },
  {
   "cell_type": "code",
   "execution_count": 21,
   "metadata": {},
   "outputs": [],
   "source": [
    "#Considering only Transaction_Type=1 since it has maximum transactions\n",
    "dfr1=dfr[(dfr.Transaction_type==1)]"
   ]
  },
  {
   "cell_type": "markdown",
   "metadata": {},
   "source": [
    "#### Exploring the Returns Data"
   ]
  },
  {
   "cell_type": "code",
   "execution_count": 22,
   "metadata": {},
   "outputs": [],
   "source": [
    "#Removing not null return indicators since we need to know if product was returned or not\n",
    "dfr2=dfr1[~dfr1.RETURN_IND.isna()]"
   ]
  },
  {
   "cell_type": "code",
   "execution_count": 23,
   "metadata": {},
   "outputs": [],
   "source": [
    "#Creating Binary Return Variable\n",
    "dfr2['Bin_Return']=(dfr2.RETURN_IND=='Y')*1"
   ]
  },
  {
   "cell_type": "code",
   "execution_count": 24,
   "metadata": {
    "scrolled": true
   },
   "outputs": [
    {
     "data": {
      "text/plain": [
       "Bin_Return\n",
       "0    95902\n",
       "1    10729\n",
       "dtype: int64"
      ]
     },
     "execution_count": 24,
     "metadata": {},
     "output_type": "execute_result"
    }
   ],
   "source": [
    "dfr2.groupby('Bin_Return').size()"
   ]
  },
  {
   "cell_type": "code",
   "execution_count": 25,
   "metadata": {
    "scrolled": true
   },
   "outputs": [
    {
     "data": {
      "text/plain": [
       "<matplotlib.axes._subplots.AxesSubplot at 0x1a1d814d30>"
      ]
     },
     "execution_count": 25,
     "metadata": {},
     "output_type": "execute_result"
    },
    {
     "data": {
      "image/png": "[encoded data removed]",
      "text/plain": [
       "<Figure size 432x288 with 1 Axes>"
      ]
     },
     "metadata": {
      "needs_background": "light"
     },
     "output_type": "display_data"
    }
   ],
   "source": [
    "sns.countplot(x='Bin_Return',data=dfr2)"
   ]
  },
  {
   "cell_type": "code",
   "execution_count": 26,
   "metadata": {
    "scrolled": false
   },
   "outputs": [
    {
     "data": {
      "text/html": [
       "<div>\n",
       "<style scoped>\n",
       "    .dataframe tbody tr th:only-of-type {\n",
       "        vertical-align: middle;\n",
       "    }\n",
       "\n",
       "    .dataframe tbody tr th {\n",
       "        vertical-align: top;\n",
       "    }\n",
       "\n",
       "    .dataframe thead th {\n",
       "        text-align: right;\n",
       "    }\n",
       "</style>\n",
       "<table border=\"1\" class=\"dataframe\">\n",
       "  <thead>\n",
       "    <tr style=\"text-align: right;\">\n",
       "      <th>Bin_Return</th>\n",
       "      <th>0</th>\n",
       "      <th>1</th>\n",
       "    </tr>\n",
       "  </thead>\n",
       "  <tbody>\n",
       "    <tr>\n",
       "      <th>Online_Transaction</th>\n",
       "      <td>0.012252</td>\n",
       "      <td>0.007177</td>\n",
       "    </tr>\n",
       "    <tr>\n",
       "      <th>Transaction_type</th>\n",
       "      <td>1.000000</td>\n",
       "      <td>1.000000</td>\n",
       "    </tr>\n",
       "    <tr>\n",
       "      <th>UNIT_PRICE</th>\n",
       "      <td>156.927153</td>\n",
       "      <td>172.406600</td>\n",
       "    </tr>\n",
       "    <tr>\n",
       "      <th>Age_HH</th>\n",
       "      <td>48.612543</td>\n",
       "      <td>48.465753</td>\n",
       "    </tr>\n",
       "    <tr>\n",
       "      <th>Income</th>\n",
       "      <td>6.003069</td>\n",
       "      <td>5.998745</td>\n",
       "    </tr>\n",
       "    <tr>\n",
       "      <th>TotalChildren</th>\n",
       "      <td>0.504421</td>\n",
       "      <td>0.519340</td>\n",
       "    </tr>\n",
       "    <tr>\n",
       "      <th>Month</th>\n",
       "      <td>6.128277</td>\n",
       "      <td>6.498649</td>\n",
       "    </tr>\n",
       "    <tr>\n",
       "      <th>Year</th>\n",
       "      <td>2001.681821</td>\n",
       "      <td>2001.495946</td>\n",
       "    </tr>\n",
       "  </tbody>\n",
       "</table>\n",
       "</div>"
      ],
      "text/plain": [
       "Bin_Return                    0            1\n",
       "Online_Transaction     0.012252     0.007177\n",
       "Transaction_type       1.000000     1.000000\n",
       "UNIT_PRICE           156.927153   172.406600\n",
       "Age_HH                48.612543    48.465753\n",
       "Income                 6.003069     5.998745\n",
       "TotalChildren          0.504421     0.519340\n",
       "Month                  6.128277     6.498649\n",
       "Year                2001.681821  2001.495946"
      ]
     },
     "execution_count": 26,
     "metadata": {},
     "output_type": "execute_result"
    }
   ],
   "source": [
    "dfr2.groupby('Bin_Return').mean().T"
   ]
  },
  {
   "cell_type": "code",
   "execution_count": 98,
   "metadata": {
    "scrolled": true
   },
   "outputs": [
    {
     "data": {
      "text/plain": [
       "Text(0, 0.5, 'Frequency of Return')"
      ]
     },
     "execution_count": 98,
     "metadata": {},
     "output_type": "execute_result"
    },
    {
     "data": {
      "image/png": "[encoded data removed]",
      "text/plain": [
       "<Figure size 432x288 with 1 Axes>"
      ]
     },
     "metadata": {
      "needs_background": "light"
     },
     "output_type": "display_data"
    }
   ],
   "source": [
    "pd.crosstab(data4.Category_Description,data4.RETURN_IND).plot(kind='bar')\n",
    "plt.xlabel('Category')\n",
    "plt.ylabel('Frequency of Return')\n",
    "plt.title('Returns for Category')"
   ]
  },
  {
   "cell_type": "code",
   "execution_count": 99,
   "metadata": {},
   "outputs": [
    {
     "data": {
      "text/plain": [
       "Text(0, 0.5, 'Frequency of Return')"
      ]
     },
     "execution_count": 99,
     "metadata": {},
     "output_type": "execute_result"
    },
    {
     "data": {
      "image/png": "[encoded data removed]",
      "text/plain": [
       "<Figure size 432x288 with 1 Axes>"
      ]
     },
     "metadata": {
      "needs_background": "light"
     },
     "output_type": "display_data"
    }
   ],
   "source": [
    "pd.crosstab(data4.Month,data4.RETURN_IND).plot(kind='bar')\n",
    "plt.xlabel('Month')\n",
    "plt.ylabel('Frequency of Return')\n",
    "plt.title('Returns for Month')"
   ]
  },
  {
   "cell_type": "code",
   "execution_count": 30,
   "metadata": {},
   "outputs": [
    {
     "data": {
      "text/html": [
       "<div>\n",
       "<style scoped>\n",
       "    .dataframe tbody tr th:only-of-type {\n",
       "        vertical-align: middle;\n",
       "    }\n",
       "\n",
       "    .dataframe tbody tr th {\n",
       "        vertical-align: top;\n",
       "    }\n",
       "\n",
       "    .dataframe thead th {\n",
       "        text-align: right;\n",
       "    }\n",
       "</style>\n",
       "<table border=\"1\" class=\"dataframe\">\n",
       "  <thead>\n",
       "    <tr style=\"text-align: right;\">\n",
       "      <th></th>\n",
       "      <th>count</th>\n",
       "      <th>mean</th>\n",
       "      <th>std</th>\n",
       "      <th>min</th>\n",
       "      <th>25%</th>\n",
       "      <th>50%</th>\n",
       "      <th>75%</th>\n",
       "      <th>max</th>\n",
       "    </tr>\n",
       "  </thead>\n",
       "  <tbody>\n",
       "    <tr>\n",
       "      <th>Online_Transaction</th>\n",
       "      <td>106631.0</td>\n",
       "      <td>0.011741</td>\n",
       "      <td>0.107720</td>\n",
       "      <td>0.00</td>\n",
       "      <td>0.00</td>\n",
       "      <td>0.000000</td>\n",
       "      <td>0.00</td>\n",
       "      <td>1.00</td>\n",
       "    </tr>\n",
       "    <tr>\n",
       "      <th>Transaction_type</th>\n",
       "      <td>106631.0</td>\n",
       "      <td>1.000000</td>\n",
       "      <td>0.000000</td>\n",
       "      <td>1.00</td>\n",
       "      <td>1.00</td>\n",
       "      <td>1.000000</td>\n",
       "      <td>1.00</td>\n",
       "      <td>1.00</td>\n",
       "    </tr>\n",
       "    <tr>\n",
       "      <th>UNIT_PRICE</th>\n",
       "      <td>106631.0</td>\n",
       "      <td>158.484664</td>\n",
       "      <td>296.066554</td>\n",
       "      <td>-599.99</td>\n",
       "      <td>19.99</td>\n",
       "      <td>59.990000</td>\n",
       "      <td>169.99</td>\n",
       "      <td>6999.99</td>\n",
       "    </tr>\n",
       "    <tr>\n",
       "      <th>Age_HH</th>\n",
       "      <td>106631.0</td>\n",
       "      <td>48.597773</td>\n",
       "      <td>13.419048</td>\n",
       "      <td>18.00</td>\n",
       "      <td>40.00</td>\n",
       "      <td>48.261417</td>\n",
       "      <td>56.00</td>\n",
       "      <td>99.00</td>\n",
       "    </tr>\n",
       "    <tr>\n",
       "      <th>Income</th>\n",
       "      <td>106631.0</td>\n",
       "      <td>6.002634</td>\n",
       "      <td>2.140006</td>\n",
       "      <td>1.00</td>\n",
       "      <td>5.00</td>\n",
       "      <td>6.000000</td>\n",
       "      <td>7.00</td>\n",
       "      <td>9.00</td>\n",
       "    </tr>\n",
       "    <tr>\n",
       "      <th>TotalChildren</th>\n",
       "      <td>106631.0</td>\n",
       "      <td>0.505922</td>\n",
       "      <td>0.876111</td>\n",
       "      <td>0.00</td>\n",
       "      <td>0.00</td>\n",
       "      <td>0.000000</td>\n",
       "      <td>1.00</td>\n",
       "      <td>6.00</td>\n",
       "    </tr>\n",
       "    <tr>\n",
       "      <th>Month</th>\n",
       "      <td>106631.0</td>\n",
       "      <td>6.165543</td>\n",
       "      <td>4.099826</td>\n",
       "      <td>1.00</td>\n",
       "      <td>2.00</td>\n",
       "      <td>6.000000</td>\n",
       "      <td>10.00</td>\n",
       "      <td>12.00</td>\n",
       "    </tr>\n",
       "    <tr>\n",
       "      <th>Year</th>\n",
       "      <td>106631.0</td>\n",
       "      <td>2001.663119</td>\n",
       "      <td>1.524222</td>\n",
       "      <td>1998.00</td>\n",
       "      <td>2001.00</td>\n",
       "      <td>2002.000000</td>\n",
       "      <td>2003.00</td>\n",
       "      <td>2004.00</td>\n",
       "    </tr>\n",
       "    <tr>\n",
       "      <th>Bin_Return</th>\n",
       "      <td>106631.0</td>\n",
       "      <td>0.100618</td>\n",
       "      <td>0.300824</td>\n",
       "      <td>0.00</td>\n",
       "      <td>0.00</td>\n",
       "      <td>0.000000</td>\n",
       "      <td>0.00</td>\n",
       "      <td>1.00</td>\n",
       "    </tr>\n",
       "  </tbody>\n",
       "</table>\n",
       "</div>"
      ],
      "text/plain": [
       "                       count         mean         std      min      25%  \\\n",
       "Online_Transaction  106631.0     0.011741    0.107720     0.00     0.00   \n",
       "Transaction_type    106631.0     1.000000    0.000000     1.00     1.00   \n",
       "UNIT_PRICE          106631.0   158.484664  296.066554  -599.99    19.99   \n",
       "Age_HH              106631.0    48.597773   13.419048    18.00    40.00   \n",
       "Income              106631.0     6.002634    2.140006     1.00     5.00   \n",
       "TotalChildren       106631.0     0.505922    0.876111     0.00     0.00   \n",
       "Month               106631.0     6.165543    4.099826     1.00     2.00   \n",
       "Year                106631.0  2001.663119    1.524222  1998.00  2001.00   \n",
       "Bin_Return          106631.0     0.100618    0.300824     0.00     0.00   \n",
       "\n",
       "                            50%      75%      max  \n",
       "Online_Transaction     0.000000     0.00     1.00  \n",
       "Transaction_type       1.000000     1.00     1.00  \n",
       "UNIT_PRICE            59.990000   169.99  6999.99  \n",
       "Age_HH                48.261417    56.00    99.00  \n",
       "Income                 6.000000     7.00     9.00  \n",
       "TotalChildren          0.000000     1.00     6.00  \n",
       "Month                  6.000000    10.00    12.00  \n",
       "Year                2002.000000  2003.00  2004.00  \n",
       "Bin_Return             0.000000     0.00     1.00  "
      ]
     },
     "execution_count": 30,
     "metadata": {},
     "output_type": "execute_result"
    }
   ],
   "source": [
    "dfr2.describe().T"
   ]
  },
  {
   "cell_type": "markdown",
   "metadata": {},
   "source": [
    "### Logistic Regression for Q1 - Predicting whether a customer will return the product ?"
   ]
  },
  {
   "cell_type": "code",
   "execution_count": 104,
   "metadata": {},
   "outputs": [],
   "source": [
    "dfr3=pd.get_dummies(dfr2,columns=['Category_Description','GENDERHH',\\\n",
    "                                  'Month','Year'],drop_first=True)"
   ]
  },
  {
   "cell_type": "code",
   "execution_count": 105,
   "metadata": {
    "scrolled": true
   },
   "outputs": [
    {
     "data": {
      "text/plain": [
       "Index(['Transaction_Date', 'Online_Transaction', 'Transaction_type',\n",
       "       'UNIT_PRICE', 'RETURN_IND', 'Age_HH', 'Income', 'TotalChildren',\n",
       "       'Formatted_Date', 'Final_Date', 'Bin_Return',\n",
       "       'Category_Description_DVS', 'Category_Description_EXPRESS',\n",
       "       'Category_Description_GIFT CARDS', 'Category_Description_HOME INS',\n",
       "       'Category_Description_IMAGING', 'Category_Description_INTABGIBLE',\n",
       "       'Category_Description_MAJORS', 'Category_Description_MOBILE',\n",
       "       'Category_Description_MUSIC', 'Category_Description_OTHER',\n",
       "       'Category_Description_P*S*T', 'Category_Description_PC HDWR',\n",
       "       'Category_Description_TELEVISION', 'Category_Description_VIDEO HDWR',\n",
       "       'Category_Description_WIRELESS', 'GENDERHH_M', 'Month_2', 'Month_3',\n",
       "       'Month_4', 'Month_5', 'Month_6', 'Month_7', 'Month_8', 'Month_9',\n",
       "       'Month_10', 'Month_11', 'Month_12', 'Year_1999', 'Year_2000',\n",
       "       'Year_2001', 'Year_2002', 'Year_2003', 'Year_2004'],\n",
       "      dtype='object')"
      ]
     },
     "execution_count": 105,
     "metadata": {},
     "output_type": "execute_result"
    }
   ],
   "source": [
    "dfr3.columns"
   ]
  },
  {
   "cell_type": "code",
   "execution_count": 106,
   "metadata": {},
   "outputs": [
    {
     "data": {
      "text/plain": [
       "Category_Description\n",
       "AUDIO         19025\n",
       "DVS            3703\n",
       "EXPRESS           1\n",
       "GIFT CARDS       88\n",
       "HOME INS        334\n",
       "IMAGING       10689\n",
       "INTABGIBLE      851\n",
       "MAJORS         4314\n",
       "MOBILE        19386\n",
       "MUSIC         12807\n",
       "OTHER          5736\n",
       "P*S*T         22817\n",
       "PC HDWR       14664\n",
       "TELEVISION    14603\n",
       "VIDEO HDWR    10516\n",
       "WIRELESS       5498\n",
       "dtype: int64"
      ]
     },
     "execution_count": 106,
     "metadata": {},
     "output_type": "execute_result"
    }
   ],
   "source": [
    "data4.groupby('Category_Description').size()"
   ]
  },
  {
   "cell_type": "code",
   "execution_count": 107,
   "metadata": {},
   "outputs": [],
   "source": [
    "X=dfr3.drop(columns=['RETURN_IND','Bin_Return','Transaction_type',\\\n",
    "                     'Category_Description_EXPRESS','Category_Description_GIFT CARDS','Transaction_Date',\\\n",
    "                     'Formatted_Date', 'Final_Date'])"
   ]
  },
  {
   "cell_type": "code",
   "execution_count": 108,
   "metadata": {},
   "outputs": [],
   "source": [
    "Y=dfr3.Bin_Return"
   ]
  },
  {
   "cell_type": "code",
   "execution_count": 194,
   "metadata": {},
   "outputs": [
    {
     "name": "stdout",
     "output_type": "stream",
     "text": [
      "total rows 94028\n",
      "returns 47014\n",
      "non returns 47014\n"
     ]
    }
   ],
   "source": [
    "over = SMOTE(random_state=0)\n",
    "X_train, X_test, Y_train, Y_test = train_test_split(X, Y, test_size=0.3, random_state=0)\n",
    "columns = X_train.columns\n",
    "over_X,over_Y=over.fit_sample(X_train, Y_train)\n",
    "over_X = pd.DataFrame(data=over_X,columns=columns )\n",
    "over_Y= pd.DataFrame(data=over_Y,columns=['y'])\n",
    "# we can Check the numbers of our data\n",
    "print(\"total rows\",len(over_X))\n",
    "print(\"returns\",len(over_Y[over_Y['y']==0]))\n",
    "print(\"non returns\",len(over_Y[over_Y['y']==1]))\n"
   ]
  },
  {
   "cell_type": "code",
   "execution_count": 195,
   "metadata": {},
   "outputs": [],
   "source": [
    "X=over_X\n",
    "Y=over_Y['y']"
   ]
  },
  {
   "cell_type": "code",
   "execution_count": 196,
   "metadata": {
    "scrolled": true
   },
   "outputs": [
    {
     "name": "stdout",
     "output_type": "stream",
     "text": [
      "Optimization terminated successfully.\n",
      "         Current function value: 0.667840\n",
      "         Iterations 6\n",
      "                                 Results: Logit\n",
      "================================================================================\n",
      "Model:                    Logit                Pseudo R-squared:     0.037      \n",
      "Dependent Variable:       y                    AIC:                  125663.2623\n",
      "Date:                     2019-03-14 23:56     BIC:                  126003.5108\n",
      "No. Observations:         94028                Log-Likelihood:       -62796.    \n",
      "Df Model:                 35                   LL-Null:              -65175.    \n",
      "Df Residuals:             93992                LLR p-value:          0.0000     \n",
      "Converged:                1.0000               Scale:                1.0000     \n",
      "No. Iterations:           6.0000                                                \n",
      "--------------------------------------------------------------------------------\n",
      "                                 Coef.  Std.Err.    z     P>|z|   [0.025  0.975]\n",
      "--------------------------------------------------------------------------------\n",
      "Online_Transaction              -0.4972   0.0767  -6.4841 0.0000 -0.6475 -0.3469\n",
      "UNIT_PRICE                       0.0003   0.0000   9.7767 0.0000  0.0002  0.0003\n",
      "Age_HH                          -0.0022   0.0005  -4.6682 0.0000 -0.0031 -0.0013\n",
      "Income                           0.0029   0.0032   0.8853 0.3760 -0.0035  0.0092\n",
      "TotalChildren                   -0.0405   0.0083  -4.8867 0.0000 -0.0567 -0.0243\n",
      "Category_Description_DVS         0.6208   0.0455  13.6434 0.0000  0.5316  0.7099\n",
      "Category_Description_HOME INS   -1.1987   0.1611  -7.4404 0.0000 -1.5145 -0.8830\n",
      "Category_Description_IMAGING    -0.2520   0.0314  -8.0296 0.0000 -0.3135 -0.1905\n",
      "Category_Description_INTABGIBLE  2.3817   0.1853  12.8507 0.0000  2.0185  2.7450\n",
      "Category_Description_MAJORS     -1.4109   0.0550 -25.6333 0.0000 -1.5187 -1.3030\n",
      "Category_Description_MOBILE      0.0365   0.0275   1.3290 0.1838 -0.0173  0.0904\n",
      "Category_Description_MUSIC      -1.0318   0.0330 -31.2820 0.0000 -1.0964 -0.9671\n",
      "Category_Description_OTHER       0.8092   0.0670  12.0851 0.0000  0.6779  0.9404\n",
      "Category_Description_P*S*T      -0.0279   0.0243  -1.1466 0.2516 -0.0756  0.0198\n",
      "Category_Description_PC HDWR    -0.1442   0.0305  -4.7234 0.0000 -0.2040 -0.0844\n",
      "Category_Description_TELEVISION -0.3659   0.0298 -12.2939 0.0000 -0.4242 -0.3076\n",
      "Category_Description_VIDEO HDWR -0.2404   0.0312  -7.7034 0.0000 -0.3015 -0.1792\n",
      "Category_Description_WIRELESS    0.5348   0.0423  12.6551 0.0000  0.4520  0.6176\n",
      "GENDERHH_M                       0.0361   0.0151   2.3875 0.0170  0.0065  0.0657\n",
      "Month_2                          0.4424   0.0319  13.8515 0.0000  0.3798  0.5050\n",
      "Month_3                          0.2014   0.0341   5.9117 0.0000  0.1346  0.2681\n",
      "Month_4                          0.2196   0.0365   6.0140 0.0000  0.1481  0.2912\n",
      "Month_5                          0.2051   0.0335   6.1166 0.0000  0.1394  0.2709\n",
      "Month_6                          0.1992   0.0340   5.8644 0.0000  0.1326  0.2657\n",
      "Month_7                          0.2563   0.0333   7.6861 0.0000  0.1910  0.3217\n",
      "Month_8                          0.1146   0.0332   3.4491 0.0006  0.0495  0.1797\n",
      "Month_9                          0.2790   0.0344   8.1123 0.0000  0.2116  0.3465\n",
      "Month_10                         0.2581   0.0354   7.2901 0.0000  0.1887  0.3274\n",
      "Month_11                         0.4231   0.0291  14.5313 0.0000  0.3660  0.4802\n",
      "Month_12                         0.4510   0.0239  18.8378 0.0000  0.4041  0.4979\n",
      "Year_1999                       -0.0419   0.0411  -1.0207 0.3074 -0.1225  0.0386\n",
      "Year_2000                        0.1283   0.0393   3.2619 0.0011  0.0512  0.2053\n",
      "Year_2001                        0.0150   0.0350   0.4294 0.6676 -0.0536  0.0836\n",
      "Year_2002                        0.0088   0.0348   0.2532 0.8001 -0.0595  0.0771\n",
      "Year_2003                       -0.0666   0.0382  -1.7434 0.0813 -0.1415  0.0083\n",
      "Year_2004                       -0.4585   0.0410 -11.1781 0.0000 -0.5389 -0.3781\n",
      "================================================================================\n",
      "\n"
     ]
    }
   ],
   "source": [
    "import statsmodels.api as sm\n",
    "logit_model=sm.Logit(Y,X)\n",
    "result=logit_model.fit(maxiter=10000)\n",
    "print(result.summary2())"
   ]
  },
  {
   "cell_type": "code",
   "execution_count": 220,
   "metadata": {},
   "outputs": [],
   "source": [
    "from sklearn.linear_model import LogisticRegression\n",
    "logmodel = LogisticRegression()\n",
    "logmodel.fit(X_train,Y_train)\n",
    "Y_pred = logmodel.predict(X_test)"
   ]
  },
  {
   "cell_type": "code",
   "execution_count": 221,
   "metadata": {},
   "outputs": [
    {
     "data": {
      "text/plain": [
       "array([[10568,  9510],\n",
       "       [ 7537, 12641]])"
      ]
     },
     "execution_count": 221,
     "metadata": {},
     "output_type": "execute_result"
    }
   ],
   "source": [
    "from sklearn.metrics import confusion_matrix\n",
    "confusion_matrix(Y_test,Y_pred)"
   ]
  },
  {
   "cell_type": "code",
   "execution_count": 222,
   "metadata": {},
   "outputs": [
    {
     "data": {
      "text/plain": [
       "0.5765351748807631"
      ]
     },
     "execution_count": 222,
     "metadata": {},
     "output_type": "execute_result"
    }
   ],
   "source": [
    "# Accuracy:\n",
    "1 - (Y_pred - Y_test ).abs().mean()"
   ]
  },
  {
   "cell_type": "code",
   "execution_count": 224,
   "metadata": {},
   "outputs": [
    {
     "data": {
      "text/plain": [
       "0.5706740102026997"
      ]
     },
     "execution_count": 224,
     "metadata": {},
     "output_type": "execute_result"
    }
   ],
   "source": [
    "import sklearn\n",
    "sklearn.metrics.precision_score(Y_test,Y_pred)"
   ]
  },
  {
   "cell_type": "code",
   "execution_count": 225,
   "metadata": {},
   "outputs": [
    {
     "data": {
      "text/plain": [
       "0.6264743780354842"
      ]
     },
     "execution_count": 225,
     "metadata": {},
     "output_type": "execute_result"
    }
   ],
   "source": [
    "sklearn.metrics.recall_score(Y_test,Y_pred)"
   ]
  },
  {
   "cell_type": "code",
   "execution_count": 226,
   "metadata": {},
   "outputs": [],
   "source": [
    "y_proba = logmodel.predict_proba(X_test)[:,1]"
   ]
  },
  {
   "cell_type": "code",
   "execution_count": 227,
   "metadata": {},
   "outputs": [
    {
     "data": {
      "text/plain": [
       "0.6038037428140669"
      ]
     },
     "execution_count": 227,
     "metadata": {},
     "output_type": "execute_result"
    }
   ],
   "source": [
    "sklearn.metrics.roc_auc_score(Y_test,y_proba)"
   ]
  },
  {
   "cell_type": "code",
   "execution_count": 229,
   "metadata": {
    "scrolled": true
   },
   "outputs": [
    {
     "name": "stdout",
     "output_type": "stream",
     "text": [
      "              precision    recall  f1-score   support\n",
      "\n",
      "           0       0.58      0.53      0.55     20078\n",
      "           1       0.57      0.63      0.60     20178\n",
      "\n",
      "   micro avg       0.58      0.58      0.58     40256\n",
      "   macro avg       0.58      0.58      0.58     40256\n",
      "weighted avg       0.58      0.58      0.58     40256\n",
      "\n"
     ]
    }
   ],
   "source": [
    "from sklearn.metrics import classification_report\n",
    "print(classification_report(Y_test,Y_pred))"
   ]
  },
  {
   "cell_type": "markdown",
   "metadata": {},
   "source": [
    "\n",
    "### Random Forest Classifier Q1 - Identify the factors that influence high returns"
   ]
  },
  {
   "cell_type": "code",
   "execution_count": 205,
   "metadata": {
    "scrolled": true
   },
   "outputs": [
    {
     "data": {
      "text/plain": [
       "RandomForestClassifier(bootstrap=True, class_weight=None, criterion='gini',\n",
       "            max_depth=None, max_features='auto', max_leaf_nodes=None,\n",
       "            min_impurity_decrease=0.0, min_impurity_split=None,\n",
       "            min_samples_leaf=1, min_samples_split=2,\n",
       "            min_weight_fraction_leaf=0.0, n_estimators=10, n_jobs=None,\n",
       "            oob_score=False, random_state=2, verbose=0, warm_start=False)"
      ]
     },
     "execution_count": 205,
     "metadata": {},
     "output_type": "execute_result"
    }
   ],
   "source": [
    "from sklearn.ensemble import RandomForestClassifier\n",
    "cl = RandomForestClassifier(random_state=2)\n",
    "cl.fit(X,Y)"
   ]
  },
  {
   "cell_type": "code",
   "execution_count": 206,
   "metadata": {},
   "outputs": [
    {
     "data": {
      "text/plain": [
       "0.9395618044515104"
      ]
     },
     "execution_count": 206,
     "metadata": {},
     "output_type": "execute_result"
    }
   ],
   "source": [
    "cl.score(X_test, Y_test)"
   ]
  },
  {
   "cell_type": "code",
   "execution_count": 230,
   "metadata": {},
   "outputs": [],
   "source": [
    "import pandas as pd\n",
    "imp_features = pd.DataFrame(cl.feature_importances_,index = X_train.columns,\\\n",
    "                                   columns=['importance']).sort_values('importance',ascending=False)"
   ]
  },
  {
   "cell_type": "code",
   "execution_count": 231,
   "metadata": {
    "scrolled": false
   },
   "outputs": [
    {
     "data": {
      "text/html": [
       "<div>\n",
       "<style scoped>\n",
       "    .dataframe tbody tr th:only-of-type {\n",
       "        vertical-align: middle;\n",
       "    }\n",
       "\n",
       "    .dataframe tbody tr th {\n",
       "        vertical-align: top;\n",
       "    }\n",
       "\n",
       "    .dataframe thead th {\n",
       "        text-align: right;\n",
       "    }\n",
       "</style>\n",
       "<table border=\"1\" class=\"dataframe\">\n",
       "  <thead>\n",
       "    <tr style=\"text-align: right;\">\n",
       "      <th></th>\n",
       "      <th>index</th>\n",
       "      <th>importance</th>\n",
       "    </tr>\n",
       "  </thead>\n",
       "  <tbody>\n",
       "    <tr>\n",
       "      <th>0</th>\n",
       "      <td>UNIT_PRICE</td>\n",
       "      <td>0.092179</td>\n",
       "    </tr>\n",
       "    <tr>\n",
       "      <th>1</th>\n",
       "      <td>GENDERHH_M</td>\n",
       "      <td>0.084785</td>\n",
       "    </tr>\n",
       "    <tr>\n",
       "      <th>2</th>\n",
       "      <td>Year_2002</td>\n",
       "      <td>0.070742</td>\n",
       "    </tr>\n",
       "    <tr>\n",
       "      <th>3</th>\n",
       "      <td>Age_HH</td>\n",
       "      <td>0.067509</td>\n",
       "    </tr>\n",
       "    <tr>\n",
       "      <th>4</th>\n",
       "      <td>Year_2001</td>\n",
       "      <td>0.061190</td>\n",
       "    </tr>\n",
       "    <tr>\n",
       "      <th>5</th>\n",
       "      <td>Year_2004</td>\n",
       "      <td>0.057852</td>\n",
       "    </tr>\n",
       "    <tr>\n",
       "      <th>6</th>\n",
       "      <td>Year_2003</td>\n",
       "      <td>0.052045</td>\n",
       "    </tr>\n",
       "    <tr>\n",
       "      <th>7</th>\n",
       "      <td>Income</td>\n",
       "      <td>0.050120</td>\n",
       "    </tr>\n",
       "    <tr>\n",
       "      <th>8</th>\n",
       "      <td>Category_Description_TELEVISION</td>\n",
       "      <td>0.049630</td>\n",
       "    </tr>\n",
       "    <tr>\n",
       "      <th>9</th>\n",
       "      <td>Category_Description_P*S*T</td>\n",
       "      <td>0.045982</td>\n",
       "    </tr>\n",
       "    <tr>\n",
       "      <th>10</th>\n",
       "      <td>Month_12</td>\n",
       "      <td>0.043767</td>\n",
       "    </tr>\n",
       "    <tr>\n",
       "      <th>11</th>\n",
       "      <td>Category_Description_MUSIC</td>\n",
       "      <td>0.037412</td>\n",
       "    </tr>\n",
       "    <tr>\n",
       "      <th>12</th>\n",
       "      <td>Year_2000</td>\n",
       "      <td>0.030465</td>\n",
       "    </tr>\n",
       "    <tr>\n",
       "      <th>13</th>\n",
       "      <td>TotalChildren</td>\n",
       "      <td>0.026658</td>\n",
       "    </tr>\n",
       "    <tr>\n",
       "      <th>14</th>\n",
       "      <td>Year_1999</td>\n",
       "      <td>0.026275</td>\n",
       "    </tr>\n",
       "    <tr>\n",
       "      <th>15</th>\n",
       "      <td>Category_Description_VIDEO HDWR</td>\n",
       "      <td>0.021058</td>\n",
       "    </tr>\n",
       "    <tr>\n",
       "      <th>16</th>\n",
       "      <td>Category_Description_IMAGING</td>\n",
       "      <td>0.018289</td>\n",
       "    </tr>\n",
       "    <tr>\n",
       "      <th>17</th>\n",
       "      <td>Category_Description_MOBILE</td>\n",
       "      <td>0.017886</td>\n",
       "    </tr>\n",
       "    <tr>\n",
       "      <th>18</th>\n",
       "      <td>Month_11</td>\n",
       "      <td>0.016589</td>\n",
       "    </tr>\n",
       "    <tr>\n",
       "      <th>19</th>\n",
       "      <td>Category_Description_PC HDWR</td>\n",
       "      <td>0.012174</td>\n",
       "    </tr>\n",
       "    <tr>\n",
       "      <th>20</th>\n",
       "      <td>Month_6</td>\n",
       "      <td>0.010974</td>\n",
       "    </tr>\n",
       "    <tr>\n",
       "      <th>21</th>\n",
       "      <td>Month_2</td>\n",
       "      <td>0.010944</td>\n",
       "    </tr>\n",
       "    <tr>\n",
       "      <th>22</th>\n",
       "      <td>Month_5</td>\n",
       "      <td>0.010607</td>\n",
       "    </tr>\n",
       "    <tr>\n",
       "      <th>23</th>\n",
       "      <td>Month_3</td>\n",
       "      <td>0.009762</td>\n",
       "    </tr>\n",
       "    <tr>\n",
       "      <th>24</th>\n",
       "      <td>Month_7</td>\n",
       "      <td>0.009611</td>\n",
       "    </tr>\n",
       "    <tr>\n",
       "      <th>25</th>\n",
       "      <td>Category_Description_WIRELESS</td>\n",
       "      <td>0.009500</td>\n",
       "    </tr>\n",
       "    <tr>\n",
       "      <th>26</th>\n",
       "      <td>Month_8</td>\n",
       "      <td>0.009110</td>\n",
       "    </tr>\n",
       "    <tr>\n",
       "      <th>27</th>\n",
       "      <td>Month_9</td>\n",
       "      <td>0.008939</td>\n",
       "    </tr>\n",
       "    <tr>\n",
       "      <th>28</th>\n",
       "      <td>Month_10</td>\n",
       "      <td>0.007751</td>\n",
       "    </tr>\n",
       "    <tr>\n",
       "      <th>29</th>\n",
       "      <td>Month_4</td>\n",
       "      <td>0.007162</td>\n",
       "    </tr>\n",
       "    <tr>\n",
       "      <th>30</th>\n",
       "      <td>Category_Description_DVS</td>\n",
       "      <td>0.006841</td>\n",
       "    </tr>\n",
       "    <tr>\n",
       "      <th>31</th>\n",
       "      <td>Category_Description_MAJORS</td>\n",
       "      <td>0.006571</td>\n",
       "    </tr>\n",
       "    <tr>\n",
       "      <th>32</th>\n",
       "      <td>Category_Description_OTHER</td>\n",
       "      <td>0.005643</td>\n",
       "    </tr>\n",
       "    <tr>\n",
       "      <th>33</th>\n",
       "      <td>Category_Description_INTABGIBLE</td>\n",
       "      <td>0.002446</td>\n",
       "    </tr>\n",
       "    <tr>\n",
       "      <th>34</th>\n",
       "      <td>Online_Transaction</td>\n",
       "      <td>0.001179</td>\n",
       "    </tr>\n",
       "    <tr>\n",
       "      <th>35</th>\n",
       "      <td>Category_Description_HOME INS</td>\n",
       "      <td>0.000353</td>\n",
       "    </tr>\n",
       "  </tbody>\n",
       "</table>\n",
       "</div>"
      ],
      "text/plain": [
       "                              index  importance\n",
       "0                        UNIT_PRICE    0.092179\n",
       "1                        GENDERHH_M    0.084785\n",
       "2                         Year_2002    0.070742\n",
       "3                            Age_HH    0.067509\n",
       "4                         Year_2001    0.061190\n",
       "5                         Year_2004    0.057852\n",
       "6                         Year_2003    0.052045\n",
       "7                            Income    0.050120\n",
       "8   Category_Description_TELEVISION    0.049630\n",
       "9        Category_Description_P*S*T    0.045982\n",
       "10                         Month_12    0.043767\n",
       "11       Category_Description_MUSIC    0.037412\n",
       "12                        Year_2000    0.030465\n",
       "13                    TotalChildren    0.026658\n",
       "14                        Year_1999    0.026275\n",
       "15  Category_Description_VIDEO HDWR    0.021058\n",
       "16     Category_Description_IMAGING    0.018289\n",
       "17      Category_Description_MOBILE    0.017886\n",
       "18                         Month_11    0.016589\n",
       "19     Category_Description_PC HDWR    0.012174\n",
       "20                          Month_6    0.010974\n",
       "21                          Month_2    0.010944\n",
       "22                          Month_5    0.010607\n",
       "23                          Month_3    0.009762\n",
       "24                          Month_7    0.009611\n",
       "25    Category_Description_WIRELESS    0.009500\n",
       "26                          Month_8    0.009110\n",
       "27                          Month_9    0.008939\n",
       "28                         Month_10    0.007751\n",
       "29                          Month_4    0.007162\n",
       "30         Category_Description_DVS    0.006841\n",
       "31      Category_Description_MAJORS    0.006571\n",
       "32       Category_Description_OTHER    0.005643\n",
       "33  Category_Description_INTABGIBLE    0.002446\n",
       "34               Online_Transaction    0.001179\n",
       "35    Category_Description_HOME INS    0.000353"
      ]
     },
     "execution_count": 231,
     "metadata": {},
     "output_type": "execute_result"
    }
   ],
   "source": [
    "imp_features.reset_index()"
   ]
  },
  {
   "cell_type": "code",
   "execution_count": 232,
   "metadata": {},
   "outputs": [],
   "source": [
    "feat=imp_features.reset_index()"
   ]
  },
  {
   "cell_type": "code",
   "execution_count": 233,
   "metadata": {},
   "outputs": [
    {
     "data": {
      "image/png": "[encoded data removed]",
      "text/plain": [
       "<Figure size 1008x504 with 1 Axes>"
      ]
     },
     "metadata": {
      "needs_background": "light"
     },
     "output_type": "display_data"
    }
   ],
   "source": [
    "ft=sns.catplot(data=feat,x='importance',y='index',aspect=2,kind='bar',height=7)"
   ]
  },
  {
   "cell_type": "markdown",
   "metadata": {},
   "source": [
    "### predict on the test set"
   ]
  },
  {
   "cell_type": "code",
   "execution_count": 234,
   "metadata": {},
   "outputs": [],
   "source": [
    "y_pred = cl.predict(X_test)"
   ]
  },
  {
   "cell_type": "markdown",
   "metadata": {},
   "source": [
    "### collect scores"
   ]
  },
  {
   "cell_type": "markdown",
   "metadata": {},
   "source": [
    "#### Confusion matrix"
   ]
  },
  {
   "cell_type": "code",
   "execution_count": 235,
   "metadata": {},
   "outputs": [
    {
     "data": {
      "text/plain": [
       "array([[19552,   526],\n",
       "       [ 1907, 18271]])"
      ]
     },
     "execution_count": 235,
     "metadata": {},
     "output_type": "execute_result"
    }
   ],
   "source": [
    "from sklearn.metrics import confusion_matrix\n",
    "confusion_matrix(Y_test,y_pred)"
   ]
  },
  {
   "cell_type": "markdown",
   "metadata": {},
   "source": [
    "#### Accuracy"
   ]
  },
  {
   "cell_type": "code",
   "execution_count": 236,
   "metadata": {},
   "outputs": [
    {
     "data": {
      "text/plain": [
       "0.9395618044515104"
      ]
     },
     "execution_count": 236,
     "metadata": {},
     "output_type": "execute_result"
    }
   ],
   "source": [
    "1 - (y_pred - Y_test).abs().mean()"
   ]
  },
  {
   "cell_type": "markdown",
   "metadata": {},
   "source": [
    "#### Precision"
   ]
  },
  {
   "cell_type": "code",
   "execution_count": 237,
   "metadata": {},
   "outputs": [
    {
     "data": {
      "text/plain": [
       "0.9720168111932755"
      ]
     },
     "execution_count": 237,
     "metadata": {},
     "output_type": "execute_result"
    }
   ],
   "source": [
    "import sklearn\n",
    "sklearn.metrics.precision_score(Y_test,y_pred)"
   ]
  },
  {
   "cell_type": "markdown",
   "metadata": {},
   "source": [
    "#### Recall"
   ]
  },
  {
   "cell_type": "code",
   "execution_count": 238,
   "metadata": {},
   "outputs": [
    {
     "data": {
      "text/plain": [
       "0.9054911289523243"
      ]
     },
     "execution_count": 238,
     "metadata": {},
     "output_type": "execute_result"
    }
   ],
   "source": [
    "sklearn.metrics.recall_score(Y_test,y_pred)"
   ]
  },
  {
   "cell_type": "markdown",
   "metadata": {},
   "source": [
    "#### AUC score"
   ]
  },
  {
   "cell_type": "code",
   "execution_count": 239,
   "metadata": {},
   "outputs": [],
   "source": [
    "y_proba = cl.predict_proba(X_test)[:,1]"
   ]
  },
  {
   "cell_type": "code",
   "execution_count": 240,
   "metadata": {},
   "outputs": [
    {
     "data": {
      "text/plain": [
       "0.9608935400722985"
      ]
     },
     "execution_count": 240,
     "metadata": {},
     "output_type": "execute_result"
    }
   ],
   "source": [
    "sklearn.metrics.roc_auc_score(Y_test,y_proba)"
   ]
  },
  {
   "cell_type": "code",
   "execution_count": 241,
   "metadata": {},
   "outputs": [
    {
     "name": "stdout",
     "output_type": "stream",
     "text": [
      "              precision    recall  f1-score   support\n",
      "\n",
      "           0       0.91      0.97      0.94     20078\n",
      "           1       0.97      0.91      0.94     20178\n",
      "\n",
      "   micro avg       0.94      0.94      0.94     40256\n",
      "   macro avg       0.94      0.94      0.94     40256\n",
      "weighted avg       0.94      0.94      0.94     40256\n",
      "\n"
     ]
    }
   ],
   "source": [
    "from sklearn.metrics import classification_report\n",
    "print(classification_report(Y_test,y_pred))"
   ]
  },
  {
   "cell_type": "markdown",
   "metadata": {},
   "source": [
    "# Cross-validation"
   ]
  },
  {
   "cell_type": "code",
   "execution_count": 219,
   "metadata": {},
   "outputs": [
    {
     "data": {
      "text/plain": [
       "RandomForestClassifier(bootstrap=True, class_weight=None, criterion='gini',\n",
       "            max_depth=None, max_features='auto', max_leaf_nodes=None,\n",
       "            min_impurity_decrease=0.0, min_impurity_split=None,\n",
       "            min_samples_leaf=1, min_samples_split=2,\n",
       "            min_weight_fraction_leaf=0.0, n_estimators=10, n_jobs=None,\n",
       "            oob_score=False, random_state=2, verbose=0, warm_start=False)"
      ]
     },
     "execution_count": 219,
     "metadata": {},
     "output_type": "execute_result"
    }
   ],
   "source": [
    "cl"
   ]
  },
  {
   "cell_type": "code",
   "execution_count": 136,
   "metadata": {},
   "outputs": [
    {
     "data": {
      "text/plain": [
       "0.961616392000173"
      ]
     },
     "execution_count": 136,
     "metadata": {},
     "output_type": "execute_result"
    }
   ],
   "source": [
    "from sklearn.model_selection import KFold\n",
    "kf = KFold(n_splits=10,random_state=0,shuffle=True)\n",
    "sklearn.model_selection.cross_val_score(cl,X,Y,cv=kf,scoring='roc_auc').mean()"
   ]
  },
  {
   "cell_type": "code",
   "execution_count": 137,
   "metadata": {},
   "outputs": [],
   "source": [
    "from sklearn.ensemble import RandomForestClassifier\n",
    "from sklearn.naive_bayes import GaussianNB\n",
    "from sklearn.discriminant_analysis import QuadraticDiscriminantAnalysis\n",
    "from sklearn.neural_network import MLPClassifier\n",
    "from sklearn.ensemble import BaggingClassifier\n",
    "from sklearn.neighbors import KNeighborsClassifier\n",
    "from sklearn.ensemble import AdaBoostClassifier\n",
    "from sklearn.svm import SVC\n",
    "from sklearn.tree import DecisionTreeClassifier\n",
    "\n",
    "clfs = [DecisionTreeClassifier(), sk.ensemble.RandomForestClassifier(n_jobs=-1),\n",
    "        sk.linear_model.LogisticRegression(n_jobs=-1),sk.tree.DecisionTreeClassifier()]"
   ]
  },
  {
   "cell_type": "markdown",
   "metadata": {},
   "source": [
    "Let's find the best one in terms of average AUC"
   ]
  },
  {
   "cell_type": "code",
   "execution_count": 138,
   "metadata": {
    "scrolled": false
   },
   "outputs": [
    {
     "name": "stdout",
     "output_type": "stream",
     "text": [
      "RandomForestClassifier(bootstrap=True, class_weight=None, criterion='gini',\n",
      "            max_depth=None, max_features='auto', max_leaf_nodes=None,\n",
      "            min_impurity_decrease=0.0, min_impurity_split=None,\n",
      "            min_samples_leaf=1, min_samples_split=2,\n",
      "            min_weight_fraction_leaf=0.0, n_estimators='warn', n_jobs=-1,\n",
      "            oob_score=False, random_state=None, verbose=0,\n",
      "            warm_start=False): 0.9613929688131169\n"
     ]
    }
   ],
   "source": [
    "#Finding the best Classifier between Decision Tree, Logistic and Random Forest Classifier\n",
    "maxAUC = -1\n",
    "bestCL = ''\n",
    "for cl in clfs:\n",
    "    kf = KFold(n_splits=10,random_state=2,shuffle=True)\n",
    "    auc = sklearn.model_selection.cross_val_score(cl,X,Y,cv=kf,scoring='roc_auc').mean()\n",
    "    if auc > maxAUC:\n",
    "        bestCl = cl\n",
    "        maxAUC = auc\n",
    "print (str(bestCl) + ': ' +str(maxAUC))"
   ]
  },
  {
   "cell_type": "markdown",
   "metadata": {},
   "source": [
    "### Q2: Identify the Key Customer Segments using Behavioral Segmentation"
   ]
  },
  {
   "cell_type": "markdown",
   "metadata": {},
   "source": [
    "#### Cleaning Data"
   ]
  },
  {
   "cell_type": "code",
   "execution_count": 140,
   "metadata": {},
   "outputs": [],
   "source": [
    "# Filtered purchase dataset only for selected columns\n",
    "data_pur_fltr=data3[['Household_ID','Transaction_NBR','Final_Date','ORIGINAL_TICKET_NBR','EXTENDED_PRICE','Quantity']]"
   ]
  },
  {
   "cell_type": "code",
   "execution_count": 141,
   "metadata": {},
   "outputs": [],
   "source": [
    "# Creating a copy for analysis\n",
    "df = data_pur_fltr.copy()"
   ]
  },
  {
   "cell_type": "code",
   "execution_count": 142,
   "metadata": {},
   "outputs": [
    {
     "name": "stdout",
     "output_type": "stream",
     "text": [
      "2004-11-30 00:00:00\n"
     ]
    }
   ],
   "source": [
    "# Setting a reference date for analysis\n",
    "Ref_Date = dtm.datetime(2004,11,30)\n",
    "print(Ref_Date)"
   ]
  },
  {
   "cell_type": "markdown",
   "metadata": {},
   "source": [
    "## RFM Analysis\n",
    "\n",
    "RFM (Recency, Frequency, Monetary) analysis is a behavioral segmentation technique to divide customers based on their past transaction history.\n",
    "\n",
    "On the basis of how recently, how often and how much did they buy, it helps divide customers into various categories to identify the most profitable customers."
   ]
  },
  {
   "cell_type": "code",
   "execution_count": 143,
   "metadata": {},
   "outputs": [],
   "source": [
    "# Calculating \n",
    "# - Recency: No. of days passed since the last purchase\n",
    "# - Frequency: No. of purchases made in the period of relationship with the brand\n",
    "# - Monetary: Total purchase amount for a household in the period of relationship\n",
    "\n",
    "RFM = df.groupby(['Household_ID']).agg({'Final_Date': lambda date: (Ref_Date - date.max()).days,\n",
    "                                        'ORIGINAL_TICKET_NBR': lambda num: num.nunique(),\n",
    "                                        'EXTENDED_PRICE': lambda price: price.sum(),\n",
    "                                        'Quantity': lambda quant: quant.sum()})"
   ]
  },
  {
   "cell_type": "code",
   "execution_count": 144,
   "metadata": {},
   "outputs": [],
   "source": [
    "# Change the name of columns\n",
    "RFM.columns=['Recency','Frequency', 'Monetary','Quantity']"
   ]
  },
  {
   "cell_type": "code",
   "execution_count": 145,
   "metadata": {},
   "outputs": [
    {
     "data": {
      "text/html": [
       "<div>\n",
       "<style scoped>\n",
       "    .dataframe tbody tr th:only-of-type {\n",
       "        vertical-align: middle;\n",
       "    }\n",
       "\n",
       "    .dataframe tbody tr th {\n",
       "        vertical-align: top;\n",
       "    }\n",
       "\n",
       "    .dataframe thead th {\n",
       "        text-align: right;\n",
       "    }\n",
       "</style>\n",
       "<table border=\"1\" class=\"dataframe\">\n",
       "  <thead>\n",
       "    <tr style=\"text-align: right;\">\n",
       "      <th></th>\n",
       "      <th>Recency</th>\n",
       "      <th>Frequency</th>\n",
       "      <th>Monetary</th>\n",
       "      <th>Quantity</th>\n",
       "    </tr>\n",
       "    <tr>\n",
       "      <th>Household_ID</th>\n",
       "      <th></th>\n",
       "      <th></th>\n",
       "      <th></th>\n",
       "      <th></th>\n",
       "    </tr>\n",
       "  </thead>\n",
       "  <tbody>\n",
       "    <tr>\n",
       "      <th>100003544</th>\n",
       "      <td>543</td>\n",
       "      <td>1.0</td>\n",
       "      <td>99.97</td>\n",
       "      <td>1</td>\n",
       "    </tr>\n",
       "    <tr>\n",
       "      <th>100012312</th>\n",
       "      <td>1421</td>\n",
       "      <td>1.0</td>\n",
       "      <td>29.98</td>\n",
       "      <td>2</td>\n",
       "    </tr>\n",
       "    <tr>\n",
       "      <th>100016237</th>\n",
       "      <td>1408</td>\n",
       "      <td>1.0</td>\n",
       "      <td>89.99</td>\n",
       "      <td>1</td>\n",
       "    </tr>\n",
       "    <tr>\n",
       "      <th>100022945</th>\n",
       "      <td>1060</td>\n",
       "      <td>3.0</td>\n",
       "      <td>628.91</td>\n",
       "      <td>9</td>\n",
       "    </tr>\n",
       "    <tr>\n",
       "      <th>100022976</th>\n",
       "      <td>715</td>\n",
       "      <td>2.0</td>\n",
       "      <td>849.98</td>\n",
       "      <td>2</td>\n",
       "    </tr>\n",
       "  </tbody>\n",
       "</table>\n",
       "</div>"
      ],
      "text/plain": [
       "              Recency  Frequency  Monetary  Quantity\n",
       "Household_ID                                        \n",
       "100003544         543        1.0     99.97         1\n",
       "100012312        1421        1.0     29.98         2\n",
       "100016237        1408        1.0     89.99         1\n",
       "100022945        1060        3.0    628.91         9\n",
       "100022976         715        2.0    849.98         2"
      ]
     },
     "execution_count": 145,
     "metadata": {},
     "output_type": "execute_result"
    }
   ],
   "source": [
    "RFM.head()"
   ]
  },
  {
   "cell_type": "markdown",
   "metadata": {},
   "source": [
    "#### Removing Negative Monetary Values"
   ]
  },
  {
   "cell_type": "code",
   "execution_count": 146,
   "metadata": {
    "scrolled": true
   },
   "outputs": [],
   "source": [
    "RFM_OLD=RFM.copy()"
   ]
  },
  {
   "cell_type": "code",
   "execution_count": 147,
   "metadata": {},
   "outputs": [],
   "source": [
    "RFM=RFM[RFM.Monetary>0]"
   ]
  },
  {
   "cell_type": "markdown",
   "metadata": {},
   "source": [
    "<b>RFM Score</b>: Based on the values of factors - Recency, Frequency, and Monetary, we calculated scores namely Recency_Score, Frequency_Score & Monetary_Score, for each household. The final RFM score will help us identify households that are our most profitable customers. Customers having lowest recency and highest monetary and frequency values are considered as top customers.\n",
    "\n",
    "<ul>\n",
    "    <li>Recency: Customers with the <b>lowest</b> recency are assigned a score 1.</li>\n",
    "    <li>Frequency: Customers with the <b>highest</b> frequency are assigned a score of 1.</li>\n",
    "    <li>Monetary: Customers with the <b>highest</b> monetary value are assigned a score of 1.</li>\n",
    "</ul>"
   ]
  },
  {
   "cell_type": "markdown",
   "metadata": {},
   "source": [
    "### Generating Quantile Scores (Normalization)"
   ]
  },
  {
   "cell_type": "code",
   "execution_count": 148,
   "metadata": {},
   "outputs": [],
   "source": [
    "RFM['Recency_Score'] = pd.qcut(RFM['Recency'], 4, ['1','2','3','4'], duplicates='drop')"
   ]
  },
  {
   "cell_type": "code",
   "execution_count": 149,
   "metadata": {},
   "outputs": [],
   "source": [
    "RFM['Frequency_Score'] = pd.qcut(RFM['Frequency'].rank(method='first'), 4, ['4','3','2','1'], duplicates='drop')"
   ]
  },
  {
   "cell_type": "code",
   "execution_count": 150,
   "metadata": {},
   "outputs": [],
   "source": [
    "RFM['Monetary_Score'] = pd.qcut(RFM['Monetary'], 4, ['4','3','2','1'], duplicates='drop')"
   ]
  },
  {
   "cell_type": "code",
   "execution_count": 151,
   "metadata": {
    "scrolled": true
   },
   "outputs": [
    {
     "data": {
      "text/html": [
       "<div>\n",
       "<style scoped>\n",
       "    .dataframe tbody tr th:only-of-type {\n",
       "        vertical-align: middle;\n",
       "    }\n",
       "\n",
       "    .dataframe tbody tr th {\n",
       "        vertical-align: top;\n",
       "    }\n",
       "\n",
       "    .dataframe thead th {\n",
       "        text-align: right;\n",
       "    }\n",
       "</style>\n",
       "<table border=\"1\" class=\"dataframe\">\n",
       "  <thead>\n",
       "    <tr style=\"text-align: right;\">\n",
       "      <th></th>\n",
       "      <th>Recency</th>\n",
       "      <th>Frequency</th>\n",
       "      <th>Monetary</th>\n",
       "      <th>Quantity</th>\n",
       "      <th>Recency_Score</th>\n",
       "      <th>Frequency_Score</th>\n",
       "      <th>Monetary_Score</th>\n",
       "    </tr>\n",
       "    <tr>\n",
       "      <th>Household_ID</th>\n",
       "      <th></th>\n",
       "      <th></th>\n",
       "      <th></th>\n",
       "      <th></th>\n",
       "      <th></th>\n",
       "      <th></th>\n",
       "      <th></th>\n",
       "    </tr>\n",
       "  </thead>\n",
       "  <tbody>\n",
       "    <tr>\n",
       "      <th>100003544</th>\n",
       "      <td>543</td>\n",
       "      <td>1.0</td>\n",
       "      <td>99.97</td>\n",
       "      <td>1</td>\n",
       "      <td>2</td>\n",
       "      <td>4</td>\n",
       "      <td>4</td>\n",
       "    </tr>\n",
       "    <tr>\n",
       "      <th>100012312</th>\n",
       "      <td>1421</td>\n",
       "      <td>1.0</td>\n",
       "      <td>29.98</td>\n",
       "      <td>2</td>\n",
       "      <td>4</td>\n",
       "      <td>4</td>\n",
       "      <td>4</td>\n",
       "    </tr>\n",
       "    <tr>\n",
       "      <th>100016237</th>\n",
       "      <td>1408</td>\n",
       "      <td>1.0</td>\n",
       "      <td>89.99</td>\n",
       "      <td>1</td>\n",
       "      <td>4</td>\n",
       "      <td>4</td>\n",
       "      <td>4</td>\n",
       "    </tr>\n",
       "    <tr>\n",
       "      <th>100022945</th>\n",
       "      <td>1060</td>\n",
       "      <td>3.0</td>\n",
       "      <td>628.91</td>\n",
       "      <td>9</td>\n",
       "      <td>3</td>\n",
       "      <td>1</td>\n",
       "      <td>2</td>\n",
       "    </tr>\n",
       "    <tr>\n",
       "      <th>100022976</th>\n",
       "      <td>715</td>\n",
       "      <td>2.0</td>\n",
       "      <td>849.98</td>\n",
       "      <td>2</td>\n",
       "      <td>2</td>\n",
       "      <td>2</td>\n",
       "      <td>2</td>\n",
       "    </tr>\n",
       "    <tr>\n",
       "      <th>100024091</th>\n",
       "      <td>1053</td>\n",
       "      <td>1.0</td>\n",
       "      <td>3002.97</td>\n",
       "      <td>6</td>\n",
       "      <td>3</td>\n",
       "      <td>4</td>\n",
       "      <td>1</td>\n",
       "    </tr>\n",
       "    <tr>\n",
       "      <th>100024909</th>\n",
       "      <td>903</td>\n",
       "      <td>3.0</td>\n",
       "      <td>3030.78</td>\n",
       "      <td>22</td>\n",
       "      <td>2</td>\n",
       "      <td>1</td>\n",
       "      <td>1</td>\n",
       "    </tr>\n",
       "    <tr>\n",
       "      <th>100025614</th>\n",
       "      <td>1942</td>\n",
       "      <td>1.0</td>\n",
       "      <td>114.98</td>\n",
       "      <td>2</td>\n",
       "      <td>4</td>\n",
       "      <td>4</td>\n",
       "      <td>4</td>\n",
       "    </tr>\n",
       "    <tr>\n",
       "      <th>100025901</th>\n",
       "      <td>224</td>\n",
       "      <td>10.0</td>\n",
       "      <td>5504.71</td>\n",
       "      <td>17</td>\n",
       "      <td>1</td>\n",
       "      <td>1</td>\n",
       "      <td>1</td>\n",
       "    </tr>\n",
       "    <tr>\n",
       "      <th>100026342</th>\n",
       "      <td>394</td>\n",
       "      <td>1.0</td>\n",
       "      <td>2208.83</td>\n",
       "      <td>18</td>\n",
       "      <td>1</td>\n",
       "      <td>4</td>\n",
       "      <td>1</td>\n",
       "    </tr>\n",
       "    <tr>\n",
       "      <th>100031891</th>\n",
       "      <td>1338</td>\n",
       "      <td>2.0</td>\n",
       "      <td>119.98</td>\n",
       "      <td>2</td>\n",
       "      <td>3</td>\n",
       "      <td>2</td>\n",
       "      <td>4</td>\n",
       "    </tr>\n",
       "    <tr>\n",
       "      <th>100033164</th>\n",
       "      <td>486</td>\n",
       "      <td>1.0</td>\n",
       "      <td>480.94</td>\n",
       "      <td>2</td>\n",
       "      <td>2</td>\n",
       "      <td>4</td>\n",
       "      <td>2</td>\n",
       "    </tr>\n",
       "    <tr>\n",
       "      <th>100033277</th>\n",
       "      <td>1972</td>\n",
       "      <td>2.0</td>\n",
       "      <td>618.90</td>\n",
       "      <td>6</td>\n",
       "      <td>4</td>\n",
       "      <td>2</td>\n",
       "      <td>2</td>\n",
       "    </tr>\n",
       "    <tr>\n",
       "      <th>100033717</th>\n",
       "      <td>1079</td>\n",
       "      <td>1.0</td>\n",
       "      <td>69.99</td>\n",
       "      <td>1</td>\n",
       "      <td>3</td>\n",
       "      <td>4</td>\n",
       "      <td>4</td>\n",
       "    </tr>\n",
       "    <tr>\n",
       "      <th>100035849</th>\n",
       "      <td>39</td>\n",
       "      <td>1.0</td>\n",
       "      <td>2544.86</td>\n",
       "      <td>12</td>\n",
       "      <td>1</td>\n",
       "      <td>4</td>\n",
       "      <td>1</td>\n",
       "    </tr>\n",
       "    <tr>\n",
       "      <th>100037757</th>\n",
       "      <td>1340</td>\n",
       "      <td>4.0</td>\n",
       "      <td>263.94</td>\n",
       "      <td>8</td>\n",
       "      <td>3</td>\n",
       "      <td>1</td>\n",
       "      <td>3</td>\n",
       "    </tr>\n",
       "    <tr>\n",
       "      <th>100039371</th>\n",
       "      <td>563</td>\n",
       "      <td>2.0</td>\n",
       "      <td>2134.93</td>\n",
       "      <td>6</td>\n",
       "      <td>2</td>\n",
       "      <td>2</td>\n",
       "      <td>1</td>\n",
       "    </tr>\n",
       "    <tr>\n",
       "      <th>100040028</th>\n",
       "      <td>1425</td>\n",
       "      <td>1.0</td>\n",
       "      <td>264.96</td>\n",
       "      <td>2</td>\n",
       "      <td>4</td>\n",
       "      <td>4</td>\n",
       "      <td>3</td>\n",
       "    </tr>\n",
       "    <tr>\n",
       "      <th>100041095</th>\n",
       "      <td>1591</td>\n",
       "      <td>1.0</td>\n",
       "      <td>257.95</td>\n",
       "      <td>6</td>\n",
       "      <td>4</td>\n",
       "      <td>4</td>\n",
       "      <td>3</td>\n",
       "    </tr>\n",
       "    <tr>\n",
       "      <th>100041276</th>\n",
       "      <td>1424</td>\n",
       "      <td>1.0</td>\n",
       "      <td>1378.98</td>\n",
       "      <td>4</td>\n",
       "      <td>4</td>\n",
       "      <td>4</td>\n",
       "      <td>1</td>\n",
       "    </tr>\n",
       "  </tbody>\n",
       "</table>\n",
       "</div>"
      ],
      "text/plain": [
       "              Recency  Frequency  Monetary  Quantity Recency_Score  \\\n",
       "Household_ID                                                         \n",
       "100003544         543        1.0     99.97         1             2   \n",
       "100012312        1421        1.0     29.98         2             4   \n",
       "100016237        1408        1.0     89.99         1             4   \n",
       "100022945        1060        3.0    628.91         9             3   \n",
       "100022976         715        2.0    849.98         2             2   \n",
       "100024091        1053        1.0   3002.97         6             3   \n",
       "100024909         903        3.0   3030.78        22             2   \n",
       "100025614        1942        1.0    114.98         2             4   \n",
       "100025901         224       10.0   5504.71        17             1   \n",
       "100026342         394        1.0   2208.83        18             1   \n",
       "100031891        1338        2.0    119.98         2             3   \n",
       "100033164         486        1.0    480.94         2             2   \n",
       "100033277        1972        2.0    618.90         6             4   \n",
       "100033717        1079        1.0     69.99         1             3   \n",
       "100035849          39        1.0   2544.86        12             1   \n",
       "100037757        1340        4.0    263.94         8             3   \n",
       "100039371         563        2.0   2134.93         6             2   \n",
       "100040028        1425        1.0    264.96         2             4   \n",
       "100041095        1591        1.0    257.95         6             4   \n",
       "100041276        1424        1.0   1378.98         4             4   \n",
       "\n",
       "             Frequency_Score Monetary_Score  \n",
       "Household_ID                                 \n",
       "100003544                  4              4  \n",
       "100012312                  4              4  \n",
       "100016237                  4              4  \n",
       "100022945                  1              2  \n",
       "100022976                  2              2  \n",
       "100024091                  4              1  \n",
       "100024909                  1              1  \n",
       "100025614                  4              4  \n",
       "100025901                  1              1  \n",
       "100026342                  4              1  \n",
       "100031891                  2              4  \n",
       "100033164                  4              2  \n",
       "100033277                  2              2  \n",
       "100033717                  4              4  \n",
       "100035849                  4              1  \n",
       "100037757                  1              3  \n",
       "100039371                  2              1  \n",
       "100040028                  4              3  \n",
       "100041095                  4              3  \n",
       "100041276                  4              1  "
      ]
     },
     "execution_count": 151,
     "metadata": {},
     "output_type": "execute_result"
    }
   ],
   "source": [
    "RFM.head(20)"
   ]
  },
  {
   "cell_type": "code",
   "execution_count": 152,
   "metadata": {},
   "outputs": [],
   "source": [
    "# RFM Final Score\n",
    "RFM['RFM_Class'] = RFM.Recency_Score.astype(str)+ RFM.Frequency_Score.astype(str) + RFM.Monetary_Score.astype(str)"
   ]
  },
  {
   "cell_type": "code",
   "execution_count": 153,
   "metadata": {
    "scrolled": false
   },
   "outputs": [
    {
     "data": {
      "text/html": [
       "<div>\n",
       "<style scoped>\n",
       "    .dataframe tbody tr th:only-of-type {\n",
       "        vertical-align: middle;\n",
       "    }\n",
       "\n",
       "    .dataframe tbody tr th {\n",
       "        vertical-align: top;\n",
       "    }\n",
       "\n",
       "    .dataframe thead th {\n",
       "        text-align: right;\n",
       "    }\n",
       "</style>\n",
       "<table border=\"1\" class=\"dataframe\">\n",
       "  <thead>\n",
       "    <tr style=\"text-align: right;\">\n",
       "      <th></th>\n",
       "      <th>Recency</th>\n",
       "      <th>Frequency</th>\n",
       "      <th>Monetary</th>\n",
       "      <th>Quantity</th>\n",
       "      <th>Recency_Score</th>\n",
       "      <th>Frequency_Score</th>\n",
       "      <th>Monetary_Score</th>\n",
       "      <th>RFM_Class</th>\n",
       "    </tr>\n",
       "    <tr>\n",
       "      <th>Household_ID</th>\n",
       "      <th></th>\n",
       "      <th></th>\n",
       "      <th></th>\n",
       "      <th></th>\n",
       "      <th></th>\n",
       "      <th></th>\n",
       "      <th></th>\n",
       "      <th></th>\n",
       "    </tr>\n",
       "  </thead>\n",
       "  <tbody>\n",
       "    <tr>\n",
       "      <th>100003544</th>\n",
       "      <td>543</td>\n",
       "      <td>1.0</td>\n",
       "      <td>99.97</td>\n",
       "      <td>1</td>\n",
       "      <td>2</td>\n",
       "      <td>4</td>\n",
       "      <td>4</td>\n",
       "      <td>244</td>\n",
       "    </tr>\n",
       "    <tr>\n",
       "      <th>100012312</th>\n",
       "      <td>1421</td>\n",
       "      <td>1.0</td>\n",
       "      <td>29.98</td>\n",
       "      <td>2</td>\n",
       "      <td>4</td>\n",
       "      <td>4</td>\n",
       "      <td>4</td>\n",
       "      <td>444</td>\n",
       "    </tr>\n",
       "    <tr>\n",
       "      <th>100016237</th>\n",
       "      <td>1408</td>\n",
       "      <td>1.0</td>\n",
       "      <td>89.99</td>\n",
       "      <td>1</td>\n",
       "      <td>4</td>\n",
       "      <td>4</td>\n",
       "      <td>4</td>\n",
       "      <td>444</td>\n",
       "    </tr>\n",
       "    <tr>\n",
       "      <th>100022945</th>\n",
       "      <td>1060</td>\n",
       "      <td>3.0</td>\n",
       "      <td>628.91</td>\n",
       "      <td>9</td>\n",
       "      <td>3</td>\n",
       "      <td>1</td>\n",
       "      <td>2</td>\n",
       "      <td>312</td>\n",
       "    </tr>\n",
       "    <tr>\n",
       "      <th>100022976</th>\n",
       "      <td>715</td>\n",
       "      <td>2.0</td>\n",
       "      <td>849.98</td>\n",
       "      <td>2</td>\n",
       "      <td>2</td>\n",
       "      <td>2</td>\n",
       "      <td>2</td>\n",
       "      <td>222</td>\n",
       "    </tr>\n",
       "    <tr>\n",
       "      <th>100024091</th>\n",
       "      <td>1053</td>\n",
       "      <td>1.0</td>\n",
       "      <td>3002.97</td>\n",
       "      <td>6</td>\n",
       "      <td>3</td>\n",
       "      <td>4</td>\n",
       "      <td>1</td>\n",
       "      <td>341</td>\n",
       "    </tr>\n",
       "    <tr>\n",
       "      <th>100024909</th>\n",
       "      <td>903</td>\n",
       "      <td>3.0</td>\n",
       "      <td>3030.78</td>\n",
       "      <td>22</td>\n",
       "      <td>2</td>\n",
       "      <td>1</td>\n",
       "      <td>1</td>\n",
       "      <td>211</td>\n",
       "    </tr>\n",
       "    <tr>\n",
       "      <th>100025614</th>\n",
       "      <td>1942</td>\n",
       "      <td>1.0</td>\n",
       "      <td>114.98</td>\n",
       "      <td>2</td>\n",
       "      <td>4</td>\n",
       "      <td>4</td>\n",
       "      <td>4</td>\n",
       "      <td>444</td>\n",
       "    </tr>\n",
       "    <tr>\n",
       "      <th>100025901</th>\n",
       "      <td>224</td>\n",
       "      <td>10.0</td>\n",
       "      <td>5504.71</td>\n",
       "      <td>17</td>\n",
       "      <td>1</td>\n",
       "      <td>1</td>\n",
       "      <td>1</td>\n",
       "      <td>111</td>\n",
       "    </tr>\n",
       "    <tr>\n",
       "      <th>100026342</th>\n",
       "      <td>394</td>\n",
       "      <td>1.0</td>\n",
       "      <td>2208.83</td>\n",
       "      <td>18</td>\n",
       "      <td>1</td>\n",
       "      <td>4</td>\n",
       "      <td>1</td>\n",
       "      <td>141</td>\n",
       "    </tr>\n",
       "  </tbody>\n",
       "</table>\n",
       "</div>"
      ],
      "text/plain": [
       "              Recency  Frequency  Monetary  Quantity Recency_Score  \\\n",
       "Household_ID                                                         \n",
       "100003544         543        1.0     99.97         1             2   \n",
       "100012312        1421        1.0     29.98         2             4   \n",
       "100016237        1408        1.0     89.99         1             4   \n",
       "100022945        1060        3.0    628.91         9             3   \n",
       "100022976         715        2.0    849.98         2             2   \n",
       "100024091        1053        1.0   3002.97         6             3   \n",
       "100024909         903        3.0   3030.78        22             2   \n",
       "100025614        1942        1.0    114.98         2             4   \n",
       "100025901         224       10.0   5504.71        17             1   \n",
       "100026342         394        1.0   2208.83        18             1   \n",
       "\n",
       "             Frequency_Score Monetary_Score RFM_Class  \n",
       "Household_ID                                           \n",
       "100003544                  4              4       244  \n",
       "100012312                  4              4       444  \n",
       "100016237                  4              4       444  \n",
       "100022945                  1              2       312  \n",
       "100022976                  2              2       222  \n",
       "100024091                  4              1       341  \n",
       "100024909                  1              1       211  \n",
       "100025614                  4              4       444  \n",
       "100025901                  1              1       111  \n",
       "100026342                  4              1       141  "
      ]
     },
     "execution_count": 153,
     "metadata": {},
     "output_type": "execute_result"
    }
   ],
   "source": [
    "RFM.head(10)"
   ]
  },
  {
   "cell_type": "markdown",
   "metadata": {},
   "source": [
    "## Clustering (K-Means) "
   ]
  },
  {
   "cell_type": "code",
   "execution_count": 154,
   "metadata": {},
   "outputs": [],
   "source": [
    "RFM['Recency_Score'] = pd.to_numeric(RFM['Recency_Score'])\n",
    "RFM['Frequency_Score'] = pd.to_numeric(RFM['Frequency_Score'])\n",
    "RFM['Monetary_Score'] = pd.to_numeric(RFM['Monetary_Score'])"
   ]
  },
  {
   "cell_type": "code",
   "execution_count": 155,
   "metadata": {},
   "outputs": [],
   "source": [
    "RFM_Cluster = RFM[['Recency_Score', 'Frequency_Score', 'Monetary_Score']]"
   ]
  },
  {
   "cell_type": "markdown",
   "metadata": {},
   "source": [
    "### Finding the optimal K"
   ]
  },
  {
   "cell_type": "markdown",
   "metadata": {},
   "source": [
    "### Elbow Plot"
   ]
  },
  {
   "cell_type": "code",
   "execution_count": 156,
   "metadata": {},
   "outputs": [],
   "source": [
    "from scipy.spatial.distance import cdist"
   ]
  },
  {
   "cell_type": "code",
   "execution_count": 157,
   "metadata": {},
   "outputs": [],
   "source": [
    "from sklearn.cluster import KMeans"
   ]
  },
  {
   "cell_type": "code",
   "execution_count": 158,
   "metadata": {},
   "outputs": [],
   "source": [
    "distortions = []\n",
    "K = range(1,10)\n",
    "for k in K:\n",
    "    kmeanModel = KMeans(n_clusters=k).fit(RFM_Cluster)\n",
    "    kmeanModel.fit(RFM_Cluster)\n",
    "    distortions.append(sum(np.min(cdist(RFM_Cluster, kmeanModel.cluster_centers_, 'euclidean'), axis=1)) / RFM_Cluster.shape[0])\n",
    "\n"
   ]
  },
  {
   "cell_type": "code",
   "execution_count": 159,
   "metadata": {},
   "outputs": [
    {
     "data": {
      "image/png": "[encoded data removed]",
      "text/plain": [
       "<Figure size 432x288 with 1 Axes>"
      ]
     },
     "metadata": {
      "needs_background": "light"
     },
     "output_type": "display_data"
    }
   ],
   "source": [
    "# Plot the elbow\n",
    "plt.plot(K, distortions, 'bx-')\n",
    "plt.xlabel('k')\n",
    "plt.ylabel('Distortion')\n",
    "plt.title('The Elbow Method showing the optimal k')\n",
    "plt.show()"
   ]
  },
  {
   "cell_type": "markdown",
   "metadata": {},
   "source": [
    "When K increases, the centroids are closer to the clusters centroids.\n",
    "\n",
    "The improvements will decline, at some point rapidly, creating the elbow shape.\n",
    "\n",
    "That point is the optimal value for K. In the image above, K=6."
   ]
  },
  {
   "cell_type": "markdown",
   "metadata": {},
   "source": [
    "### Silhouette score"
   ]
  },
  {
   "cell_type": "code",
   "execution_count": 160,
   "metadata": {},
   "outputs": [
    {
     "name": "stdout",
     "output_type": "stream",
     "text": [
      "KMeans(alg with k =2: 0.3702\n",
      "Birch(bran with k =2: 0.3037\n",
      "Agglomerat with k =2: 0.292\n",
      "KMeans(alg with k =3: 0.3504\n",
      "Birch(bran with k =3: 0.2613\n",
      "Agglomerat with k =3: 0.2846\n",
      "KMeans(alg with k =4: 0.3377\n",
      "Birch(bran with k =4: 0.2421\n",
      "Agglomerat with k =4: 0.2864\n",
      "KMeans(alg with k =5: 0.3603\n",
      "Birch(bran with k =5: 0.2742\n",
      "Agglomerat with k =5: 0.3472\n",
      "KMeans(alg with k =6: 0.3599\n",
      "Birch(bran with k =6: 0.2773\n",
      "Agglomerat with k =6: 0.3395\n",
      "KMeans(alg with k =7: 0.364\n",
      "Birch(bran with k =7: 0.3095\n",
      "Agglomerat with k =7: 0.3554\n",
      "KMeans(alg with k =8: 0.3752\n",
      "Birch(bran with k =8: 0.3044\n",
      "Agglomerat with k =8: 0.3727\n",
      "KMeans(alg with k =9: 0.368\n",
      "Birch(bran with k =9: 0.3225\n",
      "Agglomerat with k =9: 0.3767\n"
     ]
    }
   ],
   "source": [
    "from sklearn import metrics\n",
    "from sklearn.cluster import KMeans\n",
    "from sklearn.cluster import Birch\n",
    "from sklearn.cluster import AgglomerativeClustering\n",
    "\n",
    "bestSil = -1\n",
    "for k in range(2,10):\n",
    "    clus = [KMeans(n_clusters=k,n_jobs=-1), Birch(n_clusters=k), \n",
    "            AgglomerativeClustering(n_clusters=k)]\n",
    "    for cl in clus:\n",
    "        res = cl.fit(RFM_Cluster)\n",
    "        sil = metrics.silhouette_score(RFM_Cluster, res.labels_)\n",
    "        print (str(cl)[:10] + ' with k =' +str(k) + \": \" + str(round(sil,4)))\n",
    "        if (sil > bestSil):\n",
    "            bestSil = sil\n",
    "            bestCl = cl"
   ]
  },
  {
   "cell_type": "markdown",
   "metadata": {},
   "source": [
    "### Using k-means to find 5 Clusters"
   ]
  },
  {
   "cell_type": "code",
   "execution_count": 161,
   "metadata": {},
   "outputs": [],
   "source": [
    "from sklearn.cluster import KMeans\n",
    "#RFM_Cluster.sample(random_state=0,n=4)\n",
    "clu = KMeans(n_clusters=5,random_state=0)\n",
    "clu.fit(RFM_Cluster)\n",
    "RFM_Cluster = RFM_Cluster.copy()\n",
    "RFM['Cluster'] = clu.labels_"
   ]
  },
  {
   "cell_type": "code",
   "execution_count": 162,
   "metadata": {
    "scrolled": true
   },
   "outputs": [
    {
     "data": {
      "text/html": [
       "<div>\n",
       "<style scoped>\n",
       "    .dataframe tbody tr th:only-of-type {\n",
       "        vertical-align: middle;\n",
       "    }\n",
       "\n",
       "    .dataframe tbody tr th {\n",
       "        vertical-align: top;\n",
       "    }\n",
       "\n",
       "    .dataframe thead th {\n",
       "        text-align: right;\n",
       "    }\n",
       "</style>\n",
       "<table border=\"1\" class=\"dataframe\">\n",
       "  <thead>\n",
       "    <tr style=\"text-align: right;\">\n",
       "      <th></th>\n",
       "      <th>Recency</th>\n",
       "      <th>Frequency</th>\n",
       "      <th>Monetary</th>\n",
       "      <th>Quantity</th>\n",
       "      <th>Recency_Score</th>\n",
       "      <th>Frequency_Score</th>\n",
       "      <th>Monetary_Score</th>\n",
       "    </tr>\n",
       "    <tr>\n",
       "      <th>Cluster</th>\n",
       "      <th></th>\n",
       "      <th></th>\n",
       "      <th></th>\n",
       "      <th></th>\n",
       "      <th></th>\n",
       "      <th></th>\n",
       "      <th></th>\n",
       "    </tr>\n",
       "  </thead>\n",
       "  <tbody>\n",
       "    <tr>\n",
       "      <th>0</th>\n",
       "      <td>498.319797</td>\n",
       "      <td>1.048541</td>\n",
       "      <td>654.839775</td>\n",
       "      <td>6.528871</td>\n",
       "      <td>1.509201</td>\n",
       "      <td>3.406409</td>\n",
       "      <td>2.712246</td>\n",
       "    </tr>\n",
       "    <tr>\n",
       "      <th>1</th>\n",
       "      <td>1132.506550</td>\n",
       "      <td>1.790393</td>\n",
       "      <td>417.314312</td>\n",
       "      <td>4.157205</td>\n",
       "      <td>2.939956</td>\n",
       "      <td>1.608352</td>\n",
       "      <td>2.981987</td>\n",
       "    </tr>\n",
       "    <tr>\n",
       "      <th>2</th>\n",
       "      <td>1410.375196</td>\n",
       "      <td>1.007825</td>\n",
       "      <td>171.578697</td>\n",
       "      <td>2.078834</td>\n",
       "      <td>3.581182</td>\n",
       "      <td>3.346831</td>\n",
       "      <td>3.638693</td>\n",
       "    </tr>\n",
       "    <tr>\n",
       "      <th>3</th>\n",
       "      <td>395.816759</td>\n",
       "      <td>3.350645</td>\n",
       "      <td>1956.067011</td>\n",
       "      <td>14.567587</td>\n",
       "      <td>1.414365</td>\n",
       "      <td>1.401105</td>\n",
       "      <td>1.483057</td>\n",
       "    </tr>\n",
       "    <tr>\n",
       "      <th>4</th>\n",
       "      <td>1258.895197</td>\n",
       "      <td>1.036125</td>\n",
       "      <td>1517.477829</td>\n",
       "      <td>6.497420</td>\n",
       "      <td>3.213974</td>\n",
       "      <td>3.313617</td>\n",
       "      <td>1.424375</td>\n",
       "    </tr>\n",
       "  </tbody>\n",
       "</table>\n",
       "</div>"
      ],
      "text/plain": [
       "             Recency  Frequency     Monetary   Quantity  Recency_Score  \\\n",
       "Cluster                                                                  \n",
       "0         498.319797   1.048541   654.839775   6.528871       1.509201   \n",
       "1        1132.506550   1.790393   417.314312   4.157205       2.939956   \n",
       "2        1410.375196   1.007825   171.578697   2.078834       3.581182   \n",
       "3         395.816759   3.350645  1956.067011  14.567587       1.414365   \n",
       "4        1258.895197   1.036125  1517.477829   6.497420       3.213974   \n",
       "\n",
       "         Frequency_Score  Monetary_Score  \n",
       "Cluster                                   \n",
       "0               3.406409        2.712246  \n",
       "1               1.608352        2.981987  \n",
       "2               3.346831        3.638693  \n",
       "3               1.401105        1.483057  \n",
       "4               3.313617        1.424375  "
      ]
     },
     "execution_count": 162,
     "metadata": {},
     "output_type": "execute_result"
    }
   ],
   "source": [
    "RFM.groupby('Cluster').mean()"
   ]
  },
  {
   "cell_type": "markdown",
   "metadata": {},
   "source": [
    "## Analysis\n",
    "\n",
    "As we can see from the clusters, \n",
    "<li>In cluster 0, customers have bought recently, purchased frequently and also have highest monetary value. These are the <b>Loyal high value customers</b>. </li>\n",
    "<li>In cluster 3, customers have bought recently, purchased only once but have high monetary value. These are <b>Infrequent high value customers</b>. </li>\n",
    "<li>In cluster 4, customers havent shopped since a long time, but made high value purchases in the past. These are <b>churned customers</b>.</li>\n",
    "<li>In clusters 1 and 2, low value, infrequent customers who made a transaction long time back.</li>\n",
    "    <li>Clusters of interest are: \n",
    "    <li><b>0-Loyal High Value</b></li>\n",
    "    <li><b>3-Infrequent High Value</b></li>\n",
    "    <li><b>4-Churned High Value</b></li>"
   ]
  },
  {
   "cell_type": "markdown",
   "metadata": {},
   "source": [
    "### Using k-means to find 6 Clusters"
   ]
  },
  {
   "cell_type": "code",
   "execution_count": 163,
   "metadata": {},
   "outputs": [],
   "source": [
    "from sklearn.cluster import KMeans\n",
    "#RFM_Cluster.sample(random_state=0,n=4)\n",
    "clu = KMeans(n_clusters=6,random_state=0)\n",
    "clu.fit(RFM_Cluster)\n",
    "RFM_Cluster = RFM_Cluster.copy()\n",
    "RFM['Cluster'] = clu.labels_## Analysis"
   ]
  },
  {
   "cell_type": "code",
   "execution_count": 164,
   "metadata": {
    "scrolled": true
   },
   "outputs": [
    {
     "data": {
      "text/html": [
       "<div>\n",
       "<style scoped>\n",
       "    .dataframe tbody tr th:only-of-type {\n",
       "        vertical-align: middle;\n",
       "    }\n",
       "\n",
       "    .dataframe tbody tr th {\n",
       "        vertical-align: top;\n",
       "    }\n",
       "\n",
       "    .dataframe thead th {\n",
       "        text-align: right;\n",
       "    }\n",
       "</style>\n",
       "<table border=\"1\" class=\"dataframe\">\n",
       "  <thead>\n",
       "    <tr style=\"text-align: right;\">\n",
       "      <th></th>\n",
       "      <th>Recency</th>\n",
       "      <th>Frequency</th>\n",
       "      <th>Monetary</th>\n",
       "      <th>Quantity</th>\n",
       "      <th>Recency_Score</th>\n",
       "      <th>Frequency_Score</th>\n",
       "      <th>Monetary_Score</th>\n",
       "    </tr>\n",
       "    <tr>\n",
       "      <th>Cluster</th>\n",
       "      <th></th>\n",
       "      <th></th>\n",
       "      <th></th>\n",
       "      <th></th>\n",
       "      <th></th>\n",
       "      <th></th>\n",
       "      <th></th>\n",
       "    </tr>\n",
       "  </thead>\n",
       "  <tbody>\n",
       "    <tr>\n",
       "      <th>0</th>\n",
       "      <td>460.132339</td>\n",
       "      <td>1.000000</td>\n",
       "      <td>1689.133292</td>\n",
       "      <td>11.666506</td>\n",
       "      <td>1.490375</td>\n",
       "      <td>3.503850</td>\n",
       "      <td>1.494706</td>\n",
       "    </tr>\n",
       "    <tr>\n",
       "      <th>1</th>\n",
       "      <td>1391.714131</td>\n",
       "      <td>1.000000</td>\n",
       "      <td>179.075199</td>\n",
       "      <td>2.124376</td>\n",
       "      <td>3.535272</td>\n",
       "      <td>3.494465</td>\n",
       "      <td>3.599088</td>\n",
       "    </tr>\n",
       "    <tr>\n",
       "      <th>2</th>\n",
       "      <td>592.420583</td>\n",
       "      <td>1.269515</td>\n",
       "      <td>226.069546</td>\n",
       "      <td>3.809709</td>\n",
       "      <td>1.662136</td>\n",
       "      <td>2.801553</td>\n",
       "      <td>3.439612</td>\n",
       "    </tr>\n",
       "    <tr>\n",
       "      <th>3</th>\n",
       "      <td>426.988182</td>\n",
       "      <td>3.429273</td>\n",
       "      <td>1811.898622</td>\n",
       "      <td>13.734364</td>\n",
       "      <td>1.473091</td>\n",
       "      <td>1.293455</td>\n",
       "      <td>1.604909</td>\n",
       "    </tr>\n",
       "    <tr>\n",
       "      <th>4</th>\n",
       "      <td>1381.114690</td>\n",
       "      <td>1.044412</td>\n",
       "      <td>1326.717672</td>\n",
       "      <td>5.388482</td>\n",
       "      <td>3.492435</td>\n",
       "      <td>3.272328</td>\n",
       "      <td>1.521718</td>\n",
       "    </tr>\n",
       "    <tr>\n",
       "      <th>5</th>\n",
       "      <td>1362.087353</td>\n",
       "      <td>1.586050</td>\n",
       "      <td>428.012060</td>\n",
       "      <td>3.744133</td>\n",
       "      <td>3.484355</td>\n",
       "      <td>1.721317</td>\n",
       "      <td>3.007823</td>\n",
       "    </tr>\n",
       "  </tbody>\n",
       "</table>\n",
       "</div>"
      ],
      "text/plain": [
       "             Recency  Frequency     Monetary   Quantity  Recency_Score  \\\n",
       "Cluster                                                                  \n",
       "0         460.132339   1.000000  1689.133292  11.666506       1.490375   \n",
       "1        1391.714131   1.000000   179.075199   2.124376       3.535272   \n",
       "2         592.420583   1.269515   226.069546   3.809709       1.662136   \n",
       "3         426.988182   3.429273  1811.898622  13.734364       1.473091   \n",
       "4        1381.114690   1.044412  1326.717672   5.388482       3.492435   \n",
       "5        1362.087353   1.586050   428.012060   3.744133       3.484355   \n",
       "\n",
       "         Frequency_Score  Monetary_Score  \n",
       "Cluster                                   \n",
       "0               3.503850        1.494706  \n",
       "1               3.494465        3.599088  \n",
       "2               2.801553        3.439612  \n",
       "3               1.293455        1.604909  \n",
       "4               3.272328        1.521718  \n",
       "5               1.721317        3.007823  "
      ]
     },
     "execution_count": 164,
     "metadata": {},
     "output_type": "execute_result"
    }
   ],
   "source": [
    "RFM.groupby('Cluster').mean()"
   ]
  },
  {
   "cell_type": "markdown",
   "metadata": {},
   "source": [
    "### Analysis: Based on Recency_Score, Frequency_Score, Monetary_Score\n",
    "\n",
    "As we can see from the clusters, \n",
    "<li>In cluster 3, customers have bought recently, purchased frequently and also have highest monetary value. These are the <b>loyal high value customers</b>. </li>\n",
    "<li>In cluster 0, customers havent shopped since a long time, but made frequent high value purchases in the past. These are <b>Infrequent High Value</b>.</li>\n",
    "<li>In cluster 4, customers havent shopped since a long time, but made high value purchases in the past. These are <b>Churned high value customers</b>.</li>\n",
    "<li>In cluster 2, customers have bought recently and a few times but have low monetary value. These are <b>Frequent low value customers</b>. </li>\n",
    "<li>In clusters 1 and 5, low value and either infrequent or havent made transaction since long time.</li>\n",
    "    <li>Clusters of interest are: \n",
    "    <li><b>3-Loyal High Value</b></li>\n",
    "    <li><b>0-Infrequent High Value</b></li>\n",
    "    <li><b>4-Churned High Value</b></li>\n",
    "    <li><b>2-Infrequent Low Value</b></li>"
   ]
  },
  {
   "cell_type": "markdown",
   "metadata": {},
   "source": [
    "### Demographic Means of Clusters"
   ]
  },
  {
   "cell_type": "code",
   "execution_count": 165,
   "metadata": {},
   "outputs": [],
   "source": [
    "datademo=data3.copy()"
   ]
  },
  {
   "cell_type": "code",
   "execution_count": 166,
   "metadata": {},
   "outputs": [
    {
     "data": {
      "text/plain": [
       "M    96659\n",
       "F    48373\n",
       "U    27713\n",
       "Name: GENDERHH, dtype: int64"
      ]
     },
     "execution_count": 166,
     "metadata": {},
     "output_type": "execute_result"
    }
   ],
   "source": [
    "datademo.GENDERHH.value_counts()"
   ]
  },
  {
   "cell_type": "code",
   "execution_count": 167,
   "metadata": {
    "scrolled": false
   },
   "outputs": [],
   "source": [
    "datademo['Bin_GENDERHH']= ((datademo.GENDERHH == 'M') | (datademo.GENDERHH == 'U'))*1"
   ]
  },
  {
   "cell_type": "code",
   "execution_count": 168,
   "metadata": {},
   "outputs": [
    {
     "data": {
      "text/plain": [
       "1    124372\n",
       "0     48373\n",
       "Name: Bin_GENDERHH, dtype: int64"
      ]
     },
     "execution_count": 168,
     "metadata": {},
     "output_type": "execute_result"
    }
   ],
   "source": [
    "datademo.Bin_GENDERHH.value_counts()"
   ]
  },
  {
   "cell_type": "code",
   "execution_count": 169,
   "metadata": {},
   "outputs": [],
   "source": [
    "Demo = datademo.groupby(['Household_ID']).agg({'Online_Transaction': 'sum',\n",
    "                                        'Age_HH':'max',\n",
    "                                        'Income': 'max',\n",
    "                                        'Bin_GENDERHH': 'max',\n",
    "                                        'TotalChildren': 'max',\n",
    "                                        'EXTENDED_PRICE':'sum' })"
   ]
  },
  {
   "cell_type": "code",
   "execution_count": 170,
   "metadata": {},
   "outputs": [],
   "source": [
    "Demo_Final=Demo[Demo.EXTENDED_PRICE>0]"
   ]
  },
  {
   "cell_type": "code",
   "execution_count": 171,
   "metadata": {
    "scrolled": true
   },
   "outputs": [
    {
     "data": {
      "text/html": [
       "<div>\n",
       "<style scoped>\n",
       "    .dataframe tbody tr th:only-of-type {\n",
       "        vertical-align: middle;\n",
       "    }\n",
       "\n",
       "    .dataframe tbody tr th {\n",
       "        vertical-align: top;\n",
       "    }\n",
       "\n",
       "    .dataframe thead th {\n",
       "        text-align: right;\n",
       "    }\n",
       "</style>\n",
       "<table border=\"1\" class=\"dataframe\">\n",
       "  <thead>\n",
       "    <tr style=\"text-align: right;\">\n",
       "      <th></th>\n",
       "      <th>Online_Transaction</th>\n",
       "      <th>Age_HH</th>\n",
       "      <th>Income</th>\n",
       "      <th>Bin_GENDERHH</th>\n",
       "      <th>TotalChildren</th>\n",
       "      <th>EXTENDED_PRICE</th>\n",
       "    </tr>\n",
       "    <tr>\n",
       "      <th>Household_ID</th>\n",
       "      <th></th>\n",
       "      <th></th>\n",
       "      <th></th>\n",
       "      <th></th>\n",
       "      <th></th>\n",
       "      <th></th>\n",
       "    </tr>\n",
       "  </thead>\n",
       "  <tbody>\n",
       "    <tr>\n",
       "      <th>100003544</th>\n",
       "      <td>0</td>\n",
       "      <td>28.000000</td>\n",
       "      <td>6.00000</td>\n",
       "      <td>1</td>\n",
       "      <td>0</td>\n",
       "      <td>99.97</td>\n",
       "    </tr>\n",
       "    <tr>\n",
       "      <th>100012312</th>\n",
       "      <td>0</td>\n",
       "      <td>24.000000</td>\n",
       "      <td>1.00000</td>\n",
       "      <td>1</td>\n",
       "      <td>0</td>\n",
       "      <td>29.98</td>\n",
       "    </tr>\n",
       "    <tr>\n",
       "      <th>100016237</th>\n",
       "      <td>0</td>\n",
       "      <td>48.261417</td>\n",
       "      <td>5.91973</td>\n",
       "      <td>0</td>\n",
       "      <td>0</td>\n",
       "      <td>89.99</td>\n",
       "    </tr>\n",
       "    <tr>\n",
       "      <th>100022945</th>\n",
       "      <td>0</td>\n",
       "      <td>44.000000</td>\n",
       "      <td>5.00000</td>\n",
       "      <td>1</td>\n",
       "      <td>1</td>\n",
       "      <td>628.91</td>\n",
       "    </tr>\n",
       "    <tr>\n",
       "      <th>100022976</th>\n",
       "      <td>0</td>\n",
       "      <td>54.000000</td>\n",
       "      <td>7.00000</td>\n",
       "      <td>1</td>\n",
       "      <td>0</td>\n",
       "      <td>849.98</td>\n",
       "    </tr>\n",
       "  </tbody>\n",
       "</table>\n",
       "</div>"
      ],
      "text/plain": [
       "              Online_Transaction     Age_HH   Income  Bin_GENDERHH  \\\n",
       "Household_ID                                                         \n",
       "100003544                      0  28.000000  6.00000             1   \n",
       "100012312                      0  24.000000  1.00000             1   \n",
       "100016237                      0  48.261417  5.91973             0   \n",
       "100022945                      0  44.000000  5.00000             1   \n",
       "100022976                      0  54.000000  7.00000             1   \n",
       "\n",
       "              TotalChildren  EXTENDED_PRICE  \n",
       "Household_ID                                 \n",
       "100003544                 0           99.97  \n",
       "100012312                 0           29.98  \n",
       "100016237                 0           89.99  \n",
       "100022945                 1          628.91  \n",
       "100022976                 0          849.98  "
      ]
     },
     "execution_count": 171,
     "metadata": {},
     "output_type": "execute_result"
    }
   ],
   "source": [
    "Demo_Final.head()"
   ]
  },
  {
   "cell_type": "code",
   "execution_count": 172,
   "metadata": {},
   "outputs": [
    {
     "data": {
      "text/html": [
       "<div>\n",
       "<style scoped>\n",
       "    .dataframe tbody tr th:only-of-type {\n",
       "        vertical-align: middle;\n",
       "    }\n",
       "\n",
       "    .dataframe tbody tr th {\n",
       "        vertical-align: top;\n",
       "    }\n",
       "\n",
       "    .dataframe thead th {\n",
       "        text-align: right;\n",
       "    }\n",
       "</style>\n",
       "<table border=\"1\" class=\"dataframe\">\n",
       "  <thead>\n",
       "    <tr style=\"text-align: right;\">\n",
       "      <th></th>\n",
       "      <th>Recency</th>\n",
       "      <th>Frequency</th>\n",
       "      <th>Monetary</th>\n",
       "      <th>Quantity</th>\n",
       "      <th>Recency_Score</th>\n",
       "      <th>Frequency_Score</th>\n",
       "      <th>Monetary_Score</th>\n",
       "      <th>RFM_Class</th>\n",
       "      <th>Cluster</th>\n",
       "    </tr>\n",
       "    <tr>\n",
       "      <th>Household_ID</th>\n",
       "      <th></th>\n",
       "      <th></th>\n",
       "      <th></th>\n",
       "      <th></th>\n",
       "      <th></th>\n",
       "      <th></th>\n",
       "      <th></th>\n",
       "      <th></th>\n",
       "      <th></th>\n",
       "    </tr>\n",
       "  </thead>\n",
       "  <tbody>\n",
       "    <tr>\n",
       "      <th>100003544</th>\n",
       "      <td>543</td>\n",
       "      <td>1.0</td>\n",
       "      <td>99.97</td>\n",
       "      <td>1</td>\n",
       "      <td>2</td>\n",
       "      <td>4</td>\n",
       "      <td>4</td>\n",
       "      <td>244</td>\n",
       "      <td>2</td>\n",
       "    </tr>\n",
       "    <tr>\n",
       "      <th>100012312</th>\n",
       "      <td>1421</td>\n",
       "      <td>1.0</td>\n",
       "      <td>29.98</td>\n",
       "      <td>2</td>\n",
       "      <td>4</td>\n",
       "      <td>4</td>\n",
       "      <td>4</td>\n",
       "      <td>444</td>\n",
       "      <td>1</td>\n",
       "    </tr>\n",
       "    <tr>\n",
       "      <th>100016237</th>\n",
       "      <td>1408</td>\n",
       "      <td>1.0</td>\n",
       "      <td>89.99</td>\n",
       "      <td>1</td>\n",
       "      <td>4</td>\n",
       "      <td>4</td>\n",
       "      <td>4</td>\n",
       "      <td>444</td>\n",
       "      <td>1</td>\n",
       "    </tr>\n",
       "    <tr>\n",
       "      <th>100022945</th>\n",
       "      <td>1060</td>\n",
       "      <td>3.0</td>\n",
       "      <td>628.91</td>\n",
       "      <td>9</td>\n",
       "      <td>3</td>\n",
       "      <td>1</td>\n",
       "      <td>2</td>\n",
       "      <td>312</td>\n",
       "      <td>5</td>\n",
       "    </tr>\n",
       "    <tr>\n",
       "      <th>100022976</th>\n",
       "      <td>715</td>\n",
       "      <td>2.0</td>\n",
       "      <td>849.98</td>\n",
       "      <td>2</td>\n",
       "      <td>2</td>\n",
       "      <td>2</td>\n",
       "      <td>2</td>\n",
       "      <td>222</td>\n",
       "      <td>3</td>\n",
       "    </tr>\n",
       "  </tbody>\n",
       "</table>\n",
       "</div>"
      ],
      "text/plain": [
       "              Recency  Frequency  Monetary  Quantity  Recency_Score  \\\n",
       "Household_ID                                                          \n",
       "100003544         543        1.0     99.97         1              2   \n",
       "100012312        1421        1.0     29.98         2              4   \n",
       "100016237        1408        1.0     89.99         1              4   \n",
       "100022945        1060        3.0    628.91         9              3   \n",
       "100022976         715        2.0    849.98         2              2   \n",
       "\n",
       "              Frequency_Score  Monetary_Score RFM_Class  Cluster  \n",
       "Household_ID                                                      \n",
       "100003544                   4               4       244        2  \n",
       "100012312                   4               4       444        1  \n",
       "100016237                   4               4       444        1  \n",
       "100022945                   1               2       312        5  \n",
       "100022976                   2               2       222        3  "
      ]
     },
     "execution_count": 172,
     "metadata": {},
     "output_type": "execute_result"
    }
   ],
   "source": [
    "RFM.head()"
   ]
  },
  {
   "cell_type": "code",
   "execution_count": 173,
   "metadata": {},
   "outputs": [],
   "source": [
    "merged =Demo_Final.merge(RFM, on='Household_ID')"
   ]
  },
  {
   "cell_type": "code",
   "execution_count": 174,
   "metadata": {},
   "outputs": [
    {
     "data": {
      "text/html": [
       "<div>\n",
       "<style scoped>\n",
       "    .dataframe tbody tr th:only-of-type {\n",
       "        vertical-align: middle;\n",
       "    }\n",
       "\n",
       "    .dataframe tbody tr th {\n",
       "        vertical-align: top;\n",
       "    }\n",
       "\n",
       "    .dataframe thead th {\n",
       "        text-align: right;\n",
       "    }\n",
       "</style>\n",
       "<table border=\"1\" class=\"dataframe\">\n",
       "  <thead>\n",
       "    <tr style=\"text-align: right;\">\n",
       "      <th>Household_ID</th>\n",
       "      <th>100003544</th>\n",
       "      <th>100012312</th>\n",
       "      <th>100016237</th>\n",
       "      <th>100022945</th>\n",
       "      <th>100022976</th>\n",
       "    </tr>\n",
       "  </thead>\n",
       "  <tbody>\n",
       "    <tr>\n",
       "      <th>Online_Transaction</th>\n",
       "      <td>0</td>\n",
       "      <td>0</td>\n",
       "      <td>0</td>\n",
       "      <td>0</td>\n",
       "      <td>0</td>\n",
       "    </tr>\n",
       "    <tr>\n",
       "      <th>Age_HH</th>\n",
       "      <td>28</td>\n",
       "      <td>24</td>\n",
       "      <td>48.2614</td>\n",
       "      <td>44</td>\n",
       "      <td>54</td>\n",
       "    </tr>\n",
       "    <tr>\n",
       "      <th>Income</th>\n",
       "      <td>6</td>\n",
       "      <td>1</td>\n",
       "      <td>5.91973</td>\n",
       "      <td>5</td>\n",
       "      <td>7</td>\n",
       "    </tr>\n",
       "    <tr>\n",
       "      <th>Bin_GENDERHH</th>\n",
       "      <td>1</td>\n",
       "      <td>1</td>\n",
       "      <td>0</td>\n",
       "      <td>1</td>\n",
       "      <td>1</td>\n",
       "    </tr>\n",
       "    <tr>\n",
       "      <th>TotalChildren</th>\n",
       "      <td>0</td>\n",
       "      <td>0</td>\n",
       "      <td>0</td>\n",
       "      <td>1</td>\n",
       "      <td>0</td>\n",
       "    </tr>\n",
       "    <tr>\n",
       "      <th>EXTENDED_PRICE</th>\n",
       "      <td>99.97</td>\n",
       "      <td>29.98</td>\n",
       "      <td>89.99</td>\n",
       "      <td>628.91</td>\n",
       "      <td>849.98</td>\n",
       "    </tr>\n",
       "    <tr>\n",
       "      <th>Recency</th>\n",
       "      <td>543</td>\n",
       "      <td>1421</td>\n",
       "      <td>1408</td>\n",
       "      <td>1060</td>\n",
       "      <td>715</td>\n",
       "    </tr>\n",
       "    <tr>\n",
       "      <th>Frequency</th>\n",
       "      <td>1</td>\n",
       "      <td>1</td>\n",
       "      <td>1</td>\n",
       "      <td>3</td>\n",
       "      <td>2</td>\n",
       "    </tr>\n",
       "    <tr>\n",
       "      <th>Monetary</th>\n",
       "      <td>99.97</td>\n",
       "      <td>29.98</td>\n",
       "      <td>89.99</td>\n",
       "      <td>628.91</td>\n",
       "      <td>849.98</td>\n",
       "    </tr>\n",
       "    <tr>\n",
       "      <th>Quantity</th>\n",
       "      <td>1</td>\n",
       "      <td>2</td>\n",
       "      <td>1</td>\n",
       "      <td>9</td>\n",
       "      <td>2</td>\n",
       "    </tr>\n",
       "    <tr>\n",
       "      <th>Recency_Score</th>\n",
       "      <td>2</td>\n",
       "      <td>4</td>\n",
       "      <td>4</td>\n",
       "      <td>3</td>\n",
       "      <td>2</td>\n",
       "    </tr>\n",
       "    <tr>\n",
       "      <th>Frequency_Score</th>\n",
       "      <td>4</td>\n",
       "      <td>4</td>\n",
       "      <td>4</td>\n",
       "      <td>1</td>\n",
       "      <td>2</td>\n",
       "    </tr>\n",
       "    <tr>\n",
       "      <th>Monetary_Score</th>\n",
       "      <td>4</td>\n",
       "      <td>4</td>\n",
       "      <td>4</td>\n",
       "      <td>2</td>\n",
       "      <td>2</td>\n",
       "    </tr>\n",
       "    <tr>\n",
       "      <th>RFM_Class</th>\n",
       "      <td>244</td>\n",
       "      <td>444</td>\n",
       "      <td>444</td>\n",
       "      <td>312</td>\n",
       "      <td>222</td>\n",
       "    </tr>\n",
       "    <tr>\n",
       "      <th>Cluster</th>\n",
       "      <td>2</td>\n",
       "      <td>1</td>\n",
       "      <td>1</td>\n",
       "      <td>5</td>\n",
       "      <td>3</td>\n",
       "    </tr>\n",
       "  </tbody>\n",
       "</table>\n",
       "</div>"
      ],
      "text/plain": [
       "Household_ID       100003544 100012312 100016237 100022945 100022976\n",
       "Online_Transaction         0         0         0         0         0\n",
       "Age_HH                    28        24   48.2614        44        54\n",
       "Income                     6         1   5.91973         5         7\n",
       "Bin_GENDERHH               1         1         0         1         1\n",
       "TotalChildren              0         0         0         1         0\n",
       "EXTENDED_PRICE         99.97     29.98     89.99    628.91    849.98\n",
       "Recency                  543      1421      1408      1060       715\n",
       "Frequency                  1         1         1         3         2\n",
       "Monetary               99.97     29.98     89.99    628.91    849.98\n",
       "Quantity                   1         2         1         9         2\n",
       "Recency_Score              2         4         4         3         2\n",
       "Frequency_Score            4         4         4         1         2\n",
       "Monetary_Score             4         4         4         2         2\n",
       "RFM_Class                244       444       444       312       222\n",
       "Cluster                    2         1         1         5         3"
      ]
     },
     "execution_count": 174,
     "metadata": {},
     "output_type": "execute_result"
    }
   ],
   "source": [
    "merged.head().T"
   ]
  },
  {
   "cell_type": "code",
   "execution_count": 175,
   "metadata": {},
   "outputs": [
    {
     "data": {
      "text/plain": [
       "Cluster\n",
       "0    2078\n",
       "1    4607\n",
       "2    2575\n",
       "3    5500\n",
       "4    2049\n",
       "5    3068\n",
       "dtype: int64"
      ]
     },
     "execution_count": 175,
     "metadata": {},
     "output_type": "execute_result"
    }
   ],
   "source": [
    "merged.groupby('Cluster').size()"
   ]
  },
  {
   "cell_type": "markdown",
   "metadata": {},
   "source": [
    "### Analysis: Based on Recency_Score, Frequency_Score, Monetary_Score\n",
    "\n",
    "<li>Clusters of interest are: </li>\n",
    "<li><b>3-Loyal High Value</b> have high income and highest online transactions</li>\n",
    "<li><b>0-Infrequent High Value</b> have high income and do not shop online and have comparatively more children </li>\n",
    "<li><b>4-Churned High Value</b> have slighltly higher income and lowest online transactions</li>\n",
    "<li><b>2-Infrequent Low Value</b> have moderate income and also have children and also shop online </li>"
   ]
  },
  {
   "cell_type": "code",
   "execution_count": 176,
   "metadata": {},
   "outputs": [
    {
     "data": {
      "text/plain": [
       "array([  0,   4,   2,  10,   3,   1,   5,   8,   6,   7,  29,   9,  12,\n",
       "        34,  43,  15,  20, 107,  11,  58,  19,  21,  17,  56,  25])"
      ]
     },
     "execution_count": 176,
     "metadata": {},
     "output_type": "execute_result"
    }
   ],
   "source": [
    "merged.Online_Transaction.unique()"
   ]
  },
  {
   "cell_type": "code",
   "execution_count": 177,
   "metadata": {},
   "outputs": [],
   "source": [
    "highvalue=merged[(merged.Cluster==3) | (merged.Cluster == 0) | (merged.Cluster == 4)]"
   ]
  },
  {
   "cell_type": "code",
   "execution_count": 178,
   "metadata": {},
   "outputs": [],
   "source": [
    "def num2clus(desc):\n",
    "    if desc==3:\n",
    "        return 'Loyal High Value'\n",
    "    elif desc==0:\n",
    "        return 'Infrequent High Value'\n",
    "    elif desc==4:\n",
    "        return 'Churned High Value'"
   ]
  },
  {
   "cell_type": "code",
   "execution_count": 179,
   "metadata": {},
   "outputs": [],
   "source": [
    "highvalue['Cluster_Type'] = highvalue['Cluster'].apply(num2clus)  # Apply is fast on Series but v slow on Data Frames "
   ]
  },
  {
   "cell_type": "code",
   "execution_count": 180,
   "metadata": {},
   "outputs": [
    {
     "data": {
      "text/html": [
       "<div>\n",
       "<style scoped>\n",
       "    .dataframe tbody tr th:only-of-type {\n",
       "        vertical-align: middle;\n",
       "    }\n",
       "\n",
       "    .dataframe tbody tr th {\n",
       "        vertical-align: top;\n",
       "    }\n",
       "\n",
       "    .dataframe thead th {\n",
       "        text-align: right;\n",
       "    }\n",
       "</style>\n",
       "<table border=\"1\" class=\"dataframe\">\n",
       "  <thead>\n",
       "    <tr style=\"text-align: right;\">\n",
       "      <th></th>\n",
       "      <th>Online_Transaction</th>\n",
       "      <th>Age_HH</th>\n",
       "      <th>Income</th>\n",
       "      <th>Bin_GENDERHH</th>\n",
       "      <th>TotalChildren</th>\n",
       "      <th>EXTENDED_PRICE</th>\n",
       "      <th>Recency</th>\n",
       "      <th>Frequency</th>\n",
       "      <th>Monetary</th>\n",
       "      <th>Quantity</th>\n",
       "      <th>Recency_Score</th>\n",
       "      <th>Frequency_Score</th>\n",
       "      <th>Monetary_Score</th>\n",
       "      <th>RFM_Class</th>\n",
       "      <th>Cluster</th>\n",
       "      <th>Cluster_Type</th>\n",
       "    </tr>\n",
       "    <tr>\n",
       "      <th>Household_ID</th>\n",
       "      <th></th>\n",
       "      <th></th>\n",
       "      <th></th>\n",
       "      <th></th>\n",
       "      <th></th>\n",
       "      <th></th>\n",
       "      <th></th>\n",
       "      <th></th>\n",
       "      <th></th>\n",
       "      <th></th>\n",
       "      <th></th>\n",
       "      <th></th>\n",
       "      <th></th>\n",
       "      <th></th>\n",
       "      <th></th>\n",
       "      <th></th>\n",
       "    </tr>\n",
       "  </thead>\n",
       "  <tbody>\n",
       "    <tr>\n",
       "      <th>100022976</th>\n",
       "      <td>0</td>\n",
       "      <td>54.0</td>\n",
       "      <td>7.0</td>\n",
       "      <td>1</td>\n",
       "      <td>0</td>\n",
       "      <td>849.98</td>\n",
       "      <td>715</td>\n",
       "      <td>2.0</td>\n",
       "      <td>849.98</td>\n",
       "      <td>2</td>\n",
       "      <td>2</td>\n",
       "      <td>2</td>\n",
       "      <td>2</td>\n",
       "      <td>222</td>\n",
       "      <td>3</td>\n",
       "      <td>Loyal High Value</td>\n",
       "    </tr>\n",
       "    <tr>\n",
       "      <th>100024091</th>\n",
       "      <td>0</td>\n",
       "      <td>44.0</td>\n",
       "      <td>5.0</td>\n",
       "      <td>1</td>\n",
       "      <td>0</td>\n",
       "      <td>3002.97</td>\n",
       "      <td>1053</td>\n",
       "      <td>1.0</td>\n",
       "      <td>3002.97</td>\n",
       "      <td>6</td>\n",
       "      <td>3</td>\n",
       "      <td>4</td>\n",
       "      <td>1</td>\n",
       "      <td>341</td>\n",
       "      <td>4</td>\n",
       "      <td>Churned High Value</td>\n",
       "    </tr>\n",
       "    <tr>\n",
       "      <th>100024909</th>\n",
       "      <td>0</td>\n",
       "      <td>56.0</td>\n",
       "      <td>7.0</td>\n",
       "      <td>1</td>\n",
       "      <td>0</td>\n",
       "      <td>3030.78</td>\n",
       "      <td>903</td>\n",
       "      <td>3.0</td>\n",
       "      <td>3030.78</td>\n",
       "      <td>22</td>\n",
       "      <td>2</td>\n",
       "      <td>1</td>\n",
       "      <td>1</td>\n",
       "      <td>211</td>\n",
       "      <td>3</td>\n",
       "      <td>Loyal High Value</td>\n",
       "    </tr>\n",
       "    <tr>\n",
       "      <th>100025901</th>\n",
       "      <td>0</td>\n",
       "      <td>72.0</td>\n",
       "      <td>7.0</td>\n",
       "      <td>1</td>\n",
       "      <td>0</td>\n",
       "      <td>5504.71</td>\n",
       "      <td>224</td>\n",
       "      <td>10.0</td>\n",
       "      <td>5504.71</td>\n",
       "      <td>17</td>\n",
       "      <td>1</td>\n",
       "      <td>1</td>\n",
       "      <td>1</td>\n",
       "      <td>111</td>\n",
       "      <td>3</td>\n",
       "      <td>Loyal High Value</td>\n",
       "    </tr>\n",
       "    <tr>\n",
       "      <th>100026342</th>\n",
       "      <td>0</td>\n",
       "      <td>48.0</td>\n",
       "      <td>9.0</td>\n",
       "      <td>0</td>\n",
       "      <td>3</td>\n",
       "      <td>2208.83</td>\n",
       "      <td>394</td>\n",
       "      <td>1.0</td>\n",
       "      <td>2208.83</td>\n",
       "      <td>18</td>\n",
       "      <td>1</td>\n",
       "      <td>4</td>\n",
       "      <td>1</td>\n",
       "      <td>141</td>\n",
       "      <td>0</td>\n",
       "      <td>Infrequent High Value</td>\n",
       "    </tr>\n",
       "  </tbody>\n",
       "</table>\n",
       "</div>"
      ],
      "text/plain": [
       "              Online_Transaction  Age_HH  Income  Bin_GENDERHH  TotalChildren  \\\n",
       "Household_ID                                                                    \n",
       "100022976                      0    54.0     7.0             1              0   \n",
       "100024091                      0    44.0     5.0             1              0   \n",
       "100024909                      0    56.0     7.0             1              0   \n",
       "100025901                      0    72.0     7.0             1              0   \n",
       "100026342                      0    48.0     9.0             0              3   \n",
       "\n",
       "              EXTENDED_PRICE  Recency  Frequency  Monetary  Quantity  \\\n",
       "Household_ID                                                           \n",
       "100022976             849.98      715        2.0    849.98         2   \n",
       "100024091            3002.97     1053        1.0   3002.97         6   \n",
       "100024909            3030.78      903        3.0   3030.78        22   \n",
       "100025901            5504.71      224       10.0   5504.71        17   \n",
       "100026342            2208.83      394        1.0   2208.83        18   \n",
       "\n",
       "              Recency_Score  Frequency_Score  Monetary_Score RFM_Class  \\\n",
       "Household_ID                                                             \n",
       "100022976                 2                2               2       222   \n",
       "100024091                 3                4               1       341   \n",
       "100024909                 2                1               1       211   \n",
       "100025901                 1                1               1       111   \n",
       "100026342                 1                4               1       141   \n",
       "\n",
       "              Cluster           Cluster_Type  \n",
       "Household_ID                                  \n",
       "100022976           3       Loyal High Value  \n",
       "100024091           4     Churned High Value  \n",
       "100024909           3       Loyal High Value  \n",
       "100025901           3       Loyal High Value  \n",
       "100026342           0  Infrequent High Value  "
      ]
     },
     "execution_count": 180,
     "metadata": {},
     "output_type": "execute_result"
    }
   ],
   "source": [
    "highvalue.head()"
   ]
  },
  {
   "cell_type": "code",
   "execution_count": 181,
   "metadata": {},
   "outputs": [
    {
     "data": {
      "text/plain": [
       "<seaborn.axisgrid.FacetGrid at 0x1c3d5a3f60>"
      ]
     },
     "execution_count": 181,
     "metadata": {},
     "output_type": "execute_result"
    },
    {
     "data": {
      "image/png": "[encoded data removed]",
      "text/plain": [
       "<Figure size 720x360 with 1 Axes>"
      ]
     },
     "metadata": {
      "needs_background": "light"
     },
     "output_type": "display_data"
    }
   ],
   "source": [
    "import seaborn as sns\n",
    "sns.catplot(x='Cluster_Type',y='Online_Transaction',data=highvalue,kind='bar',aspect = 2)"
   ]
  },
  {
   "cell_type": "code",
   "execution_count": 182,
   "metadata": {},
   "outputs": [
    {
     "data": {
      "text/plain": [
       "<seaborn.axisgrid.FacetGrid at 0x1c3d5f16d8>"
      ]
     },
     "execution_count": 182,
     "metadata": {},
     "output_type": "execute_result"
    },
    {
     "data": {
      "image/png": "[encoded data removed]",
      "text/plain": [
       "<Figure size 720x360 with 1 Axes>"
      ]
     },
     "metadata": {
      "needs_background": "light"
     },
     "output_type": "display_data"
    }
   ],
   "source": [
    "import seaborn as sns\n",
    "sns.catplot(x='Cluster_Type',y='Income',data=highvalue,kind='bar',aspect = 2)"
   ]
  },
  {
   "cell_type": "code",
   "execution_count": 183,
   "metadata": {},
   "outputs": [
    {
     "data": {
      "text/plain": [
       "<seaborn.axisgrid.FacetGrid at 0x1a39c8b7b8>"
      ]
     },
     "execution_count": 183,
     "metadata": {},
     "output_type": "execute_result"
    },
    {
     "data": {
      "image/png": "[encoded data removed]",
      "text/plain": [
       "<Figure size 720x360 with 1 Axes>"
      ]
     },
     "metadata": {
      "needs_background": "light"
     },
     "output_type": "display_data"
    }
   ],
   "source": [
    "import seaborn as sns\n",
    "sns.catplot(x='Cluster_Type',y='TotalChildren',data=highvalue,kind='bar',aspect = 2)"
   ]
  },
  {
   "cell_type": "markdown",
   "metadata": {},
   "source": [
    "## CUSTOMER LIFETIME VALUE"
   ]
  },
  {
   "cell_type": "markdown",
   "metadata": {},
   "source": [
    "Customer Lifetime Value is a monetary value that represents the amount of revenue that a customer will give the company over the period of the relationship.\n",
    "\n",
    "<b>CLV</b> = ((Average Order Value x Purchase Frequency)/Churn Rate) x Profit margin"
   ]
  },
  {
   "cell_type": "markdown",
   "metadata": {},
   "source": [
    "Average Order Value(AOV): The Average Order value is the ratio of your total revenue and the total number of orders. AOV represents the mean amount of revenue that the customer spends on an order.\n",
    "\n",
    "<B>Average Order Value</B> = Total Revenue / Total Number of Orders"
   ]
  },
  {
   "cell_type": "code",
   "execution_count": 184,
   "metadata": {},
   "outputs": [
    {
     "data": {
      "text/html": [
       "<div>\n",
       "<style scoped>\n",
       "    .dataframe tbody tr th:only-of-type {\n",
       "        vertical-align: middle;\n",
       "    }\n",
       "\n",
       "    .dataframe tbody tr th {\n",
       "        vertical-align: top;\n",
       "    }\n",
       "\n",
       "    .dataframe thead th {\n",
       "        text-align: right;\n",
       "    }\n",
       "</style>\n",
       "<table border=\"1\" class=\"dataframe\">\n",
       "  <thead>\n",
       "    <tr style=\"text-align: right;\">\n",
       "      <th></th>\n",
       "      <th>Recency</th>\n",
       "      <th>Frequency</th>\n",
       "      <th>Monetary</th>\n",
       "      <th>Quantity</th>\n",
       "      <th>Recency_Score</th>\n",
       "      <th>Frequency_Score</th>\n",
       "      <th>Monetary_Score</th>\n",
       "      <th>RFM_Class</th>\n",
       "      <th>Cluster</th>\n",
       "      <th>Avg_Order_Value</th>\n",
       "    </tr>\n",
       "    <tr>\n",
       "      <th>Household_ID</th>\n",
       "      <th></th>\n",
       "      <th></th>\n",
       "      <th></th>\n",
       "      <th></th>\n",
       "      <th></th>\n",
       "      <th></th>\n",
       "      <th></th>\n",
       "      <th></th>\n",
       "      <th></th>\n",
       "      <th></th>\n",
       "    </tr>\n",
       "  </thead>\n",
       "  <tbody>\n",
       "    <tr>\n",
       "      <th>100003544</th>\n",
       "      <td>543</td>\n",
       "      <td>1.0</td>\n",
       "      <td>99.97</td>\n",
       "      <td>1</td>\n",
       "      <td>2</td>\n",
       "      <td>4</td>\n",
       "      <td>4</td>\n",
       "      <td>244</td>\n",
       "      <td>2</td>\n",
       "      <td>99.970000</td>\n",
       "    </tr>\n",
       "    <tr>\n",
       "      <th>100012312</th>\n",
       "      <td>1421</td>\n",
       "      <td>1.0</td>\n",
       "      <td>29.98</td>\n",
       "      <td>2</td>\n",
       "      <td>4</td>\n",
       "      <td>4</td>\n",
       "      <td>4</td>\n",
       "      <td>444</td>\n",
       "      <td>1</td>\n",
       "      <td>29.980000</td>\n",
       "    </tr>\n",
       "    <tr>\n",
       "      <th>100016237</th>\n",
       "      <td>1408</td>\n",
       "      <td>1.0</td>\n",
       "      <td>89.99</td>\n",
       "      <td>1</td>\n",
       "      <td>4</td>\n",
       "      <td>4</td>\n",
       "      <td>4</td>\n",
       "      <td>444</td>\n",
       "      <td>1</td>\n",
       "      <td>89.990000</td>\n",
       "    </tr>\n",
       "    <tr>\n",
       "      <th>100022945</th>\n",
       "      <td>1060</td>\n",
       "      <td>3.0</td>\n",
       "      <td>628.91</td>\n",
       "      <td>9</td>\n",
       "      <td>3</td>\n",
       "      <td>1</td>\n",
       "      <td>2</td>\n",
       "      <td>312</td>\n",
       "      <td>5</td>\n",
       "      <td>209.636667</td>\n",
       "    </tr>\n",
       "    <tr>\n",
       "      <th>100022976</th>\n",
       "      <td>715</td>\n",
       "      <td>2.0</td>\n",
       "      <td>849.98</td>\n",
       "      <td>2</td>\n",
       "      <td>2</td>\n",
       "      <td>2</td>\n",
       "      <td>2</td>\n",
       "      <td>222</td>\n",
       "      <td>3</td>\n",
       "      <td>424.990000</td>\n",
       "    </tr>\n",
       "  </tbody>\n",
       "</table>\n",
       "</div>"
      ],
      "text/plain": [
       "              Recency  Frequency  Monetary  Quantity  Recency_Score  \\\n",
       "Household_ID                                                          \n",
       "100003544         543        1.0     99.97         1              2   \n",
       "100012312        1421        1.0     29.98         2              4   \n",
       "100016237        1408        1.0     89.99         1              4   \n",
       "100022945        1060        3.0    628.91         9              3   \n",
       "100022976         715        2.0    849.98         2              2   \n",
       "\n",
       "              Frequency_Score  Monetary_Score RFM_Class  Cluster  \\\n",
       "Household_ID                                                       \n",
       "100003544                   4               4       244        2   \n",
       "100012312                   4               4       444        1   \n",
       "100016237                   4               4       444        1   \n",
       "100022945                   1               2       312        5   \n",
       "100022976                   2               2       222        3   \n",
       "\n",
       "              Avg_Order_Value  \n",
       "Household_ID                   \n",
       "100003544           99.970000  \n",
       "100012312           29.980000  \n",
       "100016237           89.990000  \n",
       "100022945          209.636667  \n",
       "100022976          424.990000  "
      ]
     },
     "execution_count": 184,
     "metadata": {},
     "output_type": "execute_result"
    }
   ],
   "source": [
    "RFM['Avg_Order_Value']=RFM['Monetary']/RFM['Frequency']\n",
    "RFM.head()"
   ]
  },
  {
   "cell_type": "markdown",
   "metadata": {},
   "source": [
    "Purchase Frequency(PF): Purchase Frequency is the ratio of the total number of orders upon the total number of customer. It represents the average number of orders placed by each customer.\n",
    "\n",
    "<B>Purchase Frequency</B> =  Total Number of Orders / Total Number of Customers"
   ]
  },
  {
   "cell_type": "code",
   "execution_count": 185,
   "metadata": {},
   "outputs": [
    {
     "data": {
      "text/plain": [
       "1.8021331186798812"
      ]
     },
     "execution_count": 185,
     "metadata": {},
     "output_type": "execute_result"
    }
   ],
   "source": [
    "Purchase_Frequency=sum(RFM['Frequency'])/RFM.shape[0]\n",
    "Purchase_Frequency"
   ]
  },
  {
   "cell_type": "markdown",
   "metadata": {},
   "source": [
    "Repeat Rate: Repeat rate can be defined as the ratio of the number of customers with more than one order to the number of unique customers.\n",
    "\n",
    "<B>Repeat Rate</B> = Number of Customers with more than one order/ Number of Unique Customers"
   ]
  },
  {
   "cell_type": "code",
   "execution_count": 186,
   "metadata": {},
   "outputs": [
    {
     "data": {
      "text/plain": [
       "0.32177894048397643"
      ]
     },
     "execution_count": 186,
     "metadata": {},
     "output_type": "execute_result"
    }
   ],
   "source": [
    "# Repeat Rate\n",
    "Repeat_Rate=RFM[RFM.Frequency > 1].shape[0]/RFM.shape[0]\n",
    "Repeat_Rate"
   ]
  },
  {
   "cell_type": "markdown",
   "metadata": {},
   "source": [
    "Churn Rate: Churn Rate is the percentage of customers who have not ordered again.\n",
    "\n",
    "<B>Churn Rate</B> = 1-Repeat Rate"
   ]
  },
  {
   "cell_type": "code",
   "execution_count": 187,
   "metadata": {},
   "outputs": [
    {
     "data": {
      "text/plain": [
       "0.6782210595160236"
      ]
     },
     "execution_count": 187,
     "metadata": {},
     "output_type": "execute_result"
    }
   ],
   "source": [
    "# Churn Rate\n",
    "Churn_Rate=1-Repeat_Rate\n",
    "Churn_Rate"
   ]
  },
  {
   "cell_type": "markdown",
   "metadata": {},
   "source": [
    "Let's assume the business is earning approximately 5% profit on the total sale."
   ]
  },
  {
   "cell_type": "code",
   "execution_count": 188,
   "metadata": {},
   "outputs": [],
   "source": [
    "# Profit Margin\n",
    "RFM['Profit_Margin']=RFM['Monetary']*0.05"
   ]
  },
  {
   "cell_type": "code",
   "execution_count": 189,
   "metadata": {},
   "outputs": [
    {
     "data": {
      "text/html": [
       "<div>\n",
       "<style scoped>\n",
       "    .dataframe tbody tr th:only-of-type {\n",
       "        vertical-align: middle;\n",
       "    }\n",
       "\n",
       "    .dataframe tbody tr th {\n",
       "        vertical-align: top;\n",
       "    }\n",
       "\n",
       "    .dataframe thead th {\n",
       "        text-align: right;\n",
       "    }\n",
       "</style>\n",
       "<table border=\"1\" class=\"dataframe\">\n",
       "  <thead>\n",
       "    <tr style=\"text-align: right;\">\n",
       "      <th></th>\n",
       "      <th>Recency</th>\n",
       "      <th>Frequency</th>\n",
       "      <th>Monetary</th>\n",
       "      <th>Quantity</th>\n",
       "      <th>Recency_Score</th>\n",
       "      <th>Frequency_Score</th>\n",
       "      <th>Monetary_Score</th>\n",
       "      <th>RFM_Class</th>\n",
       "      <th>Cluster</th>\n",
       "      <th>Avg_Order_Value</th>\n",
       "      <th>Profit_Margin</th>\n",
       "    </tr>\n",
       "    <tr>\n",
       "      <th>Household_ID</th>\n",
       "      <th></th>\n",
       "      <th></th>\n",
       "      <th></th>\n",
       "      <th></th>\n",
       "      <th></th>\n",
       "      <th></th>\n",
       "      <th></th>\n",
       "      <th></th>\n",
       "      <th></th>\n",
       "      <th></th>\n",
       "      <th></th>\n",
       "    </tr>\n",
       "  </thead>\n",
       "  <tbody>\n",
       "    <tr>\n",
       "      <th>100003544</th>\n",
       "      <td>543</td>\n",
       "      <td>1.0</td>\n",
       "      <td>99.97</td>\n",
       "      <td>1</td>\n",
       "      <td>2</td>\n",
       "      <td>4</td>\n",
       "      <td>4</td>\n",
       "      <td>244</td>\n",
       "      <td>2</td>\n",
       "      <td>99.970000</td>\n",
       "      <td>4.9985</td>\n",
       "    </tr>\n",
       "    <tr>\n",
       "      <th>100012312</th>\n",
       "      <td>1421</td>\n",
       "      <td>1.0</td>\n",
       "      <td>29.98</td>\n",
       "      <td>2</td>\n",
       "      <td>4</td>\n",
       "      <td>4</td>\n",
       "      <td>4</td>\n",
       "      <td>444</td>\n",
       "      <td>1</td>\n",
       "      <td>29.980000</td>\n",
       "      <td>1.4990</td>\n",
       "    </tr>\n",
       "    <tr>\n",
       "      <th>100016237</th>\n",
       "      <td>1408</td>\n",
       "      <td>1.0</td>\n",
       "      <td>89.99</td>\n",
       "      <td>1</td>\n",
       "      <td>4</td>\n",
       "      <td>4</td>\n",
       "      <td>4</td>\n",
       "      <td>444</td>\n",
       "      <td>1</td>\n",
       "      <td>89.990000</td>\n",
       "      <td>4.4995</td>\n",
       "    </tr>\n",
       "    <tr>\n",
       "      <th>100022945</th>\n",
       "      <td>1060</td>\n",
       "      <td>3.0</td>\n",
       "      <td>628.91</td>\n",
       "      <td>9</td>\n",
       "      <td>3</td>\n",
       "      <td>1</td>\n",
       "      <td>2</td>\n",
       "      <td>312</td>\n",
       "      <td>5</td>\n",
       "      <td>209.636667</td>\n",
       "      <td>31.4455</td>\n",
       "    </tr>\n",
       "    <tr>\n",
       "      <th>100022976</th>\n",
       "      <td>715</td>\n",
       "      <td>2.0</td>\n",
       "      <td>849.98</td>\n",
       "      <td>2</td>\n",
       "      <td>2</td>\n",
       "      <td>2</td>\n",
       "      <td>2</td>\n",
       "      <td>222</td>\n",
       "      <td>3</td>\n",
       "      <td>424.990000</td>\n",
       "      <td>42.4990</td>\n",
       "    </tr>\n",
       "  </tbody>\n",
       "</table>\n",
       "</div>"
      ],
      "text/plain": [
       "              Recency  Frequency  Monetary  Quantity  Recency_Score  \\\n",
       "Household_ID                                                          \n",
       "100003544         543        1.0     99.97         1              2   \n",
       "100012312        1421        1.0     29.98         2              4   \n",
       "100016237        1408        1.0     89.99         1              4   \n",
       "100022945        1060        3.0    628.91         9              3   \n",
       "100022976         715        2.0    849.98         2              2   \n",
       "\n",
       "              Frequency_Score  Monetary_Score RFM_Class  Cluster  \\\n",
       "Household_ID                                                       \n",
       "100003544                   4               4       244        2   \n",
       "100012312                   4               4       444        1   \n",
       "100016237                   4               4       444        1   \n",
       "100022945                   1               2       312        5   \n",
       "100022976                   2               2       222        3   \n",
       "\n",
       "              Avg_Order_Value  Profit_Margin  \n",
       "Household_ID                                  \n",
       "100003544           99.970000         4.9985  \n",
       "100012312           29.980000         1.4990  \n",
       "100016237           89.990000         4.4995  \n",
       "100022945          209.636667        31.4455  \n",
       "100022976          424.990000        42.4990  "
      ]
     },
     "execution_count": 189,
     "metadata": {},
     "output_type": "execute_result"
    }
   ],
   "source": [
    "RFM.head()"
   ]
  },
  {
   "cell_type": "markdown",
   "metadata": {},
   "source": [
    "Customer Lifetime: Customer Lifetime is the period of time that the customer has been continuously ordering.\n",
    "\n",
    "<B>Customer Lifetime</B> = 1/Churn Rate"
   ]
  },
  {
   "cell_type": "markdown",
   "metadata": {},
   "source": [
    "<b>Customer Value</b> = Average Order Value * Purchase Frequency"
   ]
  },
  {
   "cell_type": "code",
   "execution_count": 190,
   "metadata": {},
   "outputs": [],
   "source": [
    "# Customer Lifetime Value\n",
    "RFM['CLV']=(RFM['Avg_Order_Value']*Purchase_Frequency)/Churn_Rate*RFM['Profit_Margin']"
   ]
  },
  {
   "cell_type": "code",
   "execution_count": 191,
   "metadata": {},
   "outputs": [
    {
     "data": {
      "text/html": [
       "<div>\n",
       "<style scoped>\n",
       "    .dataframe tbody tr th:only-of-type {\n",
       "        vertical-align: middle;\n",
       "    }\n",
       "\n",
       "    .dataframe tbody tr th {\n",
       "        vertical-align: top;\n",
       "    }\n",
       "\n",
       "    .dataframe thead th {\n",
       "        text-align: right;\n",
       "    }\n",
       "</style>\n",
       "<table border=\"1\" class=\"dataframe\">\n",
       "  <thead>\n",
       "    <tr style=\"text-align: right;\">\n",
       "      <th></th>\n",
       "      <th>Cluster</th>\n",
       "      <th>Recency</th>\n",
       "      <th>Frequency</th>\n",
       "      <th>Monetary</th>\n",
       "      <th>Quantity</th>\n",
       "      <th>Recency_Score</th>\n",
       "      <th>Frequency_Score</th>\n",
       "      <th>Monetary_Score</th>\n",
       "      <th>Avg_Order_Value</th>\n",
       "      <th>Profit_Margin</th>\n",
       "      <th>CLV</th>\n",
       "    </tr>\n",
       "  </thead>\n",
       "  <tbody>\n",
       "    <tr>\n",
       "      <th>0</th>\n",
       "      <td>0</td>\n",
       "      <td>460.132339</td>\n",
       "      <td>1.000000</td>\n",
       "      <td>1689.133292</td>\n",
       "      <td>11.666506</td>\n",
       "      <td>1.490375</td>\n",
       "      <td>3.503850</td>\n",
       "      <td>1.494706</td>\n",
       "      <td>1689.133292</td>\n",
       "      <td>84.456665</td>\n",
       "      <td>647042.954036</td>\n",
       "    </tr>\n",
       "    <tr>\n",
       "      <th>1</th>\n",
       "      <td>1</td>\n",
       "      <td>1391.714131</td>\n",
       "      <td>1.000000</td>\n",
       "      <td>179.075199</td>\n",
       "      <td>2.124376</td>\n",
       "      <td>3.535272</td>\n",
       "      <td>3.494465</td>\n",
       "      <td>3.599088</td>\n",
       "      <td>179.075199</td>\n",
       "      <td>8.953760</td>\n",
       "      <td>5878.368910</td>\n",
       "    </tr>\n",
       "    <tr>\n",
       "      <th>2</th>\n",
       "      <td>2</td>\n",
       "      <td>592.420583</td>\n",
       "      <td>1.269515</td>\n",
       "      <td>226.069546</td>\n",
       "      <td>3.809709</td>\n",
       "      <td>1.662136</td>\n",
       "      <td>2.801553</td>\n",
       "      <td>3.439612</td>\n",
       "      <td>202.554594</td>\n",
       "      <td>11.303477</td>\n",
       "      <td>7833.234255</td>\n",
       "    </tr>\n",
       "    <tr>\n",
       "      <th>3</th>\n",
       "      <td>3</td>\n",
       "      <td>426.988182</td>\n",
       "      <td>3.429273</td>\n",
       "      <td>1811.898622</td>\n",
       "      <td>13.734364</td>\n",
       "      <td>1.473091</td>\n",
       "      <td>1.293455</td>\n",
       "      <td>1.604909</td>\n",
       "      <td>788.066436</td>\n",
       "      <td>90.594931</td>\n",
       "      <td>344641.387653</td>\n",
       "    </tr>\n",
       "    <tr>\n",
       "      <th>4</th>\n",
       "      <td>4</td>\n",
       "      <td>1381.114690</td>\n",
       "      <td>1.044412</td>\n",
       "      <td>1326.717672</td>\n",
       "      <td>5.388482</td>\n",
       "      <td>3.492435</td>\n",
       "      <td>3.272328</td>\n",
       "      <td>1.521718</td>\n",
       "      <td>1278.363609</td>\n",
       "      <td>66.335884</td>\n",
       "      <td>315400.233991</td>\n",
       "    </tr>\n",
       "    <tr>\n",
       "      <th>5</th>\n",
       "      <td>5</td>\n",
       "      <td>1362.087353</td>\n",
       "      <td>1.586050</td>\n",
       "      <td>428.012060</td>\n",
       "      <td>3.744133</td>\n",
       "      <td>3.484355</td>\n",
       "      <td>1.721317</td>\n",
       "      <td>3.007823</td>\n",
       "      <td>276.856027</td>\n",
       "      <td>21.400603</td>\n",
       "      <td>28354.050683</td>\n",
       "    </tr>\n",
       "  </tbody>\n",
       "</table>\n",
       "</div>"
      ],
      "text/plain": [
       "   Cluster      Recency  Frequency     Monetary   Quantity  Recency_Score  \\\n",
       "0        0   460.132339   1.000000  1689.133292  11.666506       1.490375   \n",
       "1        1  1391.714131   1.000000   179.075199   2.124376       3.535272   \n",
       "2        2   592.420583   1.269515   226.069546   3.809709       1.662136   \n",
       "3        3   426.988182   3.429273  1811.898622  13.734364       1.473091   \n",
       "4        4  1381.114690   1.044412  1326.717672   5.388482       3.492435   \n",
       "5        5  1362.087353   1.586050   428.012060   3.744133       3.484355   \n",
       "\n",
       "   Frequency_Score  Monetary_Score  Avg_Order_Value  Profit_Margin  \\\n",
       "0         3.503850        1.494706      1689.133292      84.456665   \n",
       "1         3.494465        3.599088       179.075199       8.953760   \n",
       "2         2.801553        3.439612       202.554594      11.303477   \n",
       "3         1.293455        1.604909       788.066436      90.594931   \n",
       "4         3.272328        1.521718      1278.363609      66.335884   \n",
       "5         1.721317        3.007823       276.856027      21.400603   \n",
       "\n",
       "             CLV  \n",
       "0  647042.954036  \n",
       "1    5878.368910  \n",
       "2    7833.234255  \n",
       "3  344641.387653  \n",
       "4  315400.233991  \n",
       "5   28354.050683  "
      ]
     },
     "execution_count": 191,
     "metadata": {},
     "output_type": "execute_result"
    }
   ],
   "source": [
    "df1 = RFM.groupby('Cluster').mean().reset_index()\n",
    "df1"
   ]
  },
  {
   "cell_type": "markdown",
   "metadata": {},
   "source": [
    "## Plotting CLV vs Customer Segments"
   ]
  },
  {
   "cell_type": "code",
   "execution_count": 192,
   "metadata": {},
   "outputs": [
    {
     "data": {
      "text/plain": [
       "<seaborn.axisgrid.FacetGrid at 0x1a319bc978>"
      ]
     },
     "execution_count": 192,
     "metadata": {},
     "output_type": "execute_result"
    },
    {
     "data": {
      "image/png": "[encoded data removed]",
      "text/plain": [
       "<Figure size 720x360 with 1 Axes>"
      ]
     },
     "metadata": {
      "needs_background": "light"
     },
     "output_type": "display_data"
    }
   ],
   "source": [
    "import seaborn as sns\n",
    "\n",
    "sns.catplot(x='Cluster',y='CLV',data=df1,kind='bar',aspect = 2)"
   ]
  },
  {
   "cell_type": "markdown",
   "metadata": {},
   "source": [
    "## Analysis"
   ]
  },
  {
   "cell_type": "markdown",
   "metadata": {},
   "source": [
    "As we can see from the graph,\n",
    "Cluster 0 and 3 have the highest CLV which are also the high value clusters in RFM."
   ]
  }
 ],
 "metadata": {
  "kernelspec": {
   "display_name": "Python 3",
   "language": "python",
   "name": "python3"
  },
  "language_info": {
   "codemirror_mode": {
    "name": "ipython",
    "version": 3
   },
   "file_extension": ".py",
   "mimetype": "text/x-python",
   "name": "python",
   "nbconvert_exporter": "python",
   "pygments_lexer": "ipython3",
   "version": "3.7.1"
  }
 },
 "nbformat": 4,
 "nbformat_minor": 2
}
